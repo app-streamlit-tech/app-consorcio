{
 "cells": [
  {
   "cell_type": "markdown",
   "metadata": {},
   "source": [
    "create table sales (id_venda varchar primary key, id_prod_caract int, nome_adm varchar, nome_produto varchar, id_funcionario int, nome_funcionario varchar, grupo int, cota int, projeto varchar, nome_cliente varchar, \n",
    "\t\t\t\t\tdata_venda date, data_venda_abv varchar, data_primeira_parcela date, data_ultima_parcela date, valor_venda numeric, taxa_comissao numeric, valor_comissao numeric, id_income numeric, taxa_receita numeric, \n",
    "\t\t\t\t\tvalor_receita numeric, data_ultima_parcela_receita date, company_id varchar);\n",
    "\t\t\t\t\t\n",
    "create table projects (id_projeto int primary key, nome_projeto varchar, company_id varchar);\n",
    "\n",
    "create table employees (id_funcionario int primary key, nome_funcionario varchar, cpf varchar, data_adesao date, salario numeric, pix varchar,\n",
    "\t\t\t\t\t\tprojeto varchar, nome_banco varchar, nr_banco varchar, agencia varchar, conta varchar, titular varchar, documento varchar, emp_validation bool, company_id varchar);\n",
    "\t\t\t\t\t\t\n",
    "create table products (id_produto int primary key, nome_adm varchar, nome_produto varchar, company_id varchar);\n",
    "\n",
    "create table prod_caract (id_prod_caract int primary key, nome_adm varchar, nome_produto varchar, projeto varchar, taxa_comissao numeric, qtd_parcelas int, taxa_parcelas varchar, company_id varchar);\n",
    "\t\t\t\t\t   \n",
    "create table expenses (id_despesa int primary key, tipo_despesa varchar, nome_despesa varchar, qtd int, descricao varchar, valor_salario numeric, valor_comissao numeric, valor_despesa numeric, data_despesa date, \n",
    "\t\t\t\t\t  data_despesa_abv varchar, company_id varchar);\n",
    "\n",
    "create table administrators (id_adm int primary key, nome_adm varchar, company_id varchar);\n",
    "\n",
    "create table income (id_income int primary key, nome_adm varchar, nome_produto varchar, taxa_comissao numeric, contemplacao numeric, qtd_parcelas int, taxa_parcelas varchar, company_id varchar);"
   ]
  },
  {
   "cell_type": "code",
   "execution_count": 14,
   "metadata": {},
   "outputs": [],
   "source": [
    "import psycopg2\n",
    "import pandas as pd\n",
    "import numpy as np\n",
    "import streamlit_authenticator as stauth\n",
    "from datetime import datetime as dt"
   ]
  },
  {
   "cell_type": "code",
   "execution_count": 2,
   "metadata": {},
   "outputs": [],
   "source": [
    "conn = psycopg2.connect(dbname='postgres', user='postgres', password='1673', host='localhost', port='5432')\n",
    "cur = conn.cursor()"
   ]
  },
  {
   "cell_type": "code",
   "execution_count": 12,
   "metadata": {},
   "outputs": [],
   "source": [
    "unix_socket = '/cloudsql/{}'.format(\"my-project-id:us-central1:my-db-name\")\n",
    "\n",
    "conn = psycopg2.connect(database=\"app-consorcio\", user = \"user-db-consorcio\", password = \"\", host = '34.70.179.57')\n",
    "cur = conn.cursor()"
   ]
  },
  {
   "cell_type": "code",
   "execution_count": 13,
   "metadata": {},
   "outputs": [
    {
     "data": {
      "text/plain": [
       "[(1, 'Externo', 'contato_4b42bcf5-6cb5-47d7-8a4e-6c14b30f7dac'),\n",
       " (2, 'Network', 'contato_4b42bcf5-6cb5-47d7-8a4e-6c14b30f7dac'),\n",
       " (3, 'Especial 1', 'contato_4b42bcf5-6cb5-47d7-8a4e-6c14b30f7dac'),\n",
       " (4, 'Especial 2', 'contato_4b42bcf5-6cb5-47d7-8a4e-6c14b30f7dac'),\n",
       " (5, 'Especial 3', 'contato_4b42bcf5-6cb5-47d7-8a4e-6c14b30f7dac'),\n",
       " (6, 'Renato', 'contato_4b42bcf5-6cb5-47d7-8a4e-6c14b30f7dac'),\n",
       " (7, 'Interno', 'contato_4b42bcf5-6cb5-47d7-8a4e-6c14b30f7dac')]"
      ]
     },
     "execution_count": 13,
     "metadata": {},
     "output_type": "execute_result"
    }
   ],
   "source": [
    "cur.execute('select * from projects;')\n",
    "lista = list(cur.fetchall())\n",
    "lista"
   ]
  },
  {
   "cell_type": "code",
   "execution_count": null,
   "metadata": {},
   "outputs": [],
   "source": []
  },
  {
   "cell_type": "code",
   "execution_count": 11,
   "metadata": {},
   "outputs": [],
   "source": [
    "list_tables = ['projects','employees','products','prod_caract','expenses','administrators','income']\n",
    "for table in list_tables:\n",
    "    query = f'SELECT * from {table};'\n",
    "    cur.execute(query)\n",
    "    list_col = [x[0] for x in cur.description]\n",
    "    df = pd.DataFrame(cur.fetchall(), columns=list_col)\n",
    "    df.to_csv(fr\"C:\\app-consorcio-data\\{table}.csv\", index=False)"
   ]
  },
  {
   "cell_type": "code",
   "execution_count": 5,
   "metadata": {},
   "outputs": [],
   "source": []
  },
  {
   "cell_type": "code",
   "execution_count": 10,
   "metadata": {},
   "outputs": [
    {
     "data": {
      "text/html": [
       "<div>\n",
       "<style scoped>\n",
       "    .dataframe tbody tr th:only-of-type {\n",
       "        vertical-align: middle;\n",
       "    }\n",
       "\n",
       "    .dataframe tbody tr th {\n",
       "        vertical-align: top;\n",
       "    }\n",
       "\n",
       "    .dataframe thead th {\n",
       "        text-align: right;\n",
       "    }\n",
       "</style>\n",
       "<table border=\"1\" class=\"dataframe\">\n",
       "  <thead>\n",
       "    <tr style=\"text-align: right;\">\n",
       "      <th></th>\n",
       "      <th>id_prod_caract</th>\n",
       "      <th>nome_adm</th>\n",
       "      <th>nome_produto</th>\n",
       "      <th>id_funcionario</th>\n",
       "      <th>nome_funcionario</th>\n",
       "      <th>cota</th>\n",
       "      <th>projeto</th>\n",
       "      <th>nome_cliente</th>\n",
       "      <th>data_venda</th>\n",
       "      <th>data_venda_abv</th>\n",
       "      <th>...</th>\n",
       "      <th>valor_venda</th>\n",
       "      <th>taxa_comissao</th>\n",
       "      <th>valor_comissao</th>\n",
       "      <th>company_id</th>\n",
       "      <th>taxa_receita</th>\n",
       "      <th>valor_receita</th>\n",
       "      <th>id_income</th>\n",
       "      <th>grupo</th>\n",
       "      <th>id_venda</th>\n",
       "      <th>data_ultima_parcela_receita</th>\n",
       "    </tr>\n",
       "  </thead>\n",
       "  <tbody>\n",
       "    <tr>\n",
       "      <th>19</th>\n",
       "      <td>16</td>\n",
       "      <td>BR</td>\n",
       "      <td>BR - MCA</td>\n",
       "      <td>1</td>\n",
       "      <td>Andyara</td>\n",
       "      <td>45</td>\n",
       "      <td>Network</td>\n",
       "      <td>GABRIEL DOS SANTOS PEREIRA FERREIRA</td>\n",
       "      <td>2024-03-05</td>\n",
       "      <td>2024/03</td>\n",
       "      <td>...</td>\n",
       "      <td>30000.0</td>\n",
       "      <td>0.75</td>\n",
       "      <td>225.0</td>\n",
       "      <td>contato_4b42bcf5-6cb5-47d7-8a4e-6c14b30f7dac</td>\n",
       "      <td>1.5000000000000002</td>\n",
       "      <td>450.0000000000001</td>\n",
       "      <td>3</td>\n",
       "      <td>MCA68</td>\n",
       "      <td>400517390</td>\n",
       "      <td>2024-06-10</td>\n",
       "    </tr>\n",
       "  </tbody>\n",
       "</table>\n",
       "<p>1 rows × 22 columns</p>\n",
       "</div>"
      ],
      "text/plain": [
       "    id_prod_caract nome_adm nome_produto  id_funcionario nome_funcionario  \\\n",
       "19              16       BR     BR - MCA               1          Andyara   \n",
       "\n",
       "    cota  projeto                         nome_cliente  data_venda  \\\n",
       "19    45  Network  GABRIEL DOS SANTOS PEREIRA FERREIRA  2024-03-05   \n",
       "\n",
       "   data_venda_abv  ... valor_venda taxa_comissao valor_comissao  \\\n",
       "19        2024/03  ...     30000.0          0.75          225.0   \n",
       "\n",
       "                                      company_id        taxa_receita  \\\n",
       "19  contato_4b42bcf5-6cb5-47d7-8a4e-6c14b30f7dac  1.5000000000000002   \n",
       "\n",
       "        valor_receita id_income  grupo   id_venda data_ultima_parcela_receita  \n",
       "19  450.0000000000001         3  MCA68  400517390                  2024-06-10  \n",
       "\n",
       "[1 rows x 22 columns]"
      ]
     },
     "execution_count": 10,
     "metadata": {},
     "output_type": "execute_result"
    }
   ],
   "source": [
    "df[df['grupo'] == 'MCA68']"
   ]
  },
  {
   "cell_type": "code",
   "execution_count": 7,
   "metadata": {},
   "outputs": [
    {
     "data": {
      "text/plain": [
       "Index(['id_prod_caract', 'nome_adm', 'nome_produto', 'id_funcionario',\n",
       "       'nome_funcionario', 'cota', 'projeto', 'nome_cliente', 'data_venda',\n",
       "       'data_venda_abv', 'data_primeira_parcela', 'data_ultima_parcela',\n",
       "       'valor_venda', 'taxa_comissao', 'valor_comissao', 'company_id',\n",
       "       'taxa_receita', 'valor_receita', 'id_income', 'grupo', 'id_venda',\n",
       "       'data_ultima_parcela_receita'],\n",
       "      dtype='object')"
      ]
     },
     "execution_count": 7,
     "metadata": {},
     "output_type": "execute_result"
    }
   ],
   "source": [
    "df.columns"
   ]
  }
 ],
 "metadata": {
  "kernelspec": {
   "display_name": "Python 3",
   "language": "python",
   "name": "python3"
  },
  "language_info": {
   "codemirror_mode": {
    "name": "ipython",
    "version": 3
   },
   "file_extension": ".py",
   "mimetype": "text/x-python",
   "name": "python",
   "nbconvert_exporter": "python",
   "pygments_lexer": "ipython3",
   "version": "3.8.10"
  }
 },
 "nbformat": 4,
 "nbformat_minor": 2
}
