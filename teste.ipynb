{
 "cells": [
  {
   "cell_type": "markdown",
   "metadata": {},
   "source": [
    "create table sales (id_venda int primary key, id_prod_caract int, nome_adm varchar, nome_produto varchar, id_funcionario int, nome_funcionario varchar, grupo int, cota int, projeto varchar, nome_cliente varchar, \n",
    "\t\t\t\t\tdata_venda date, data_venda_abv varchar, data_primeira_parcela date, data_ultima_parcela date, valor_venda numeric, taxa_comissao numeric, valor_comissao numeric, valor_liquido numeric, \n",
    "\t\t\t\t\tcompany_id varchar);\n",
    "\t\t\t\t\t\n",
    "create table projects (id_projeto int primary key, nome_adm varchar, nome_projeto varchar);\n",
    "\n",
    "create table employees (id_funcionario int primary key, nome_funcionario varchar, cpf varchar, data_adesao date, salario numeric, pix varchar,\n",
    "\t\t\t\t\t\tprojeto varchar, emp_validation bool, company_id varchar);\n",
    "\t\t\t\t\t\t\n",
    "create table products (id_produto int primary key, nome_adm varchar, nome_produto varchar, company_id varchar);\n",
    "\n",
    "create table prod_caract (id_prod_caract int primary key, nome_adm varchar, nome_produto varchar, projeto varchar, taxa_comissao numeric, qtd_parcelas int, taxa_parcelas varchar, company_id varchar);\n",
    "\t\t\t\t\t   \n",
    "create table expenses (id_despesa int primary key, tipo_despesa varchar, nome_despesa varchar, qtd int, descricao varchar, valor_salario numeric, valor_comissao numeric, valor_despesa numeric, data_despesa date, \n",
    "\t\t\t\t\t  data_despesa_abv varchar, company_id varchar);\n",
    "\n",
    "create table administrators (id_adm int primary key, nome_adm varchar, company_id varchar);"
   ]
  },
  {
   "cell_type": "code",
   "execution_count": 4,
   "metadata": {},
   "outputs": [
    {
     "data": {
      "text/plain": [
       "0"
      ]
     },
     "execution_count": 4,
     "metadata": {},
     "output_type": "execute_result"
    }
   ],
   "source": [
    "lista = ['a','b','c','d']\n",
    "idx = lista.index('e') if 'e' in lista else 0\n",
    "idx"
   ]
  },
  {
   "cell_type": "code",
   "execution_count": 8,
   "metadata": {},
   "outputs": [],
   "source": [
    "lista.sort()"
   ]
  },
  {
   "cell_type": "code",
   "execution_count": 1,
   "metadata": {},
   "outputs": [],
   "source": [
    "import psycopg2\n",
    "import pandas as pd\n",
    "import numpy as np\n",
    "from datetime import datetime as dt"
   ]
  },
  {
   "cell_type": "code",
   "execution_count": 2,
   "metadata": {},
   "outputs": [],
   "source": [
    "conn = psycopg2.connect(dbname='postgres', user='postgres', password='1673', host='localhost', port='5432')\n",
    "cur = conn.cursor()"
   ]
  },
  {
   "cell_type": "code",
   "execution_count": 21,
   "metadata": {},
   "outputs": [
    {
     "name": "stdout",
     "output_type": "stream",
     "text": [
      "GSC ACIMA 3M\n",
      "a\n"
     ]
    }
   ],
   "source": [
    "query = f\"select nome_produto from products;\"\n",
    "cur.execute(query)\n",
    "resp = cur.fetchall()\n",
    "list_prod = [x[0] for x in resp]\n",
    "\n",
    "# for prod in list_prod:\n",
    "#     query = f\"select * from income where nome_produto = '{prod}';\"\n",
    "#     cur.execute(query)\n",
    "#     resp = cur.fetchall()\n",
    "#     if len(resp) == 0:\n",
    "#         print(prod)"
   ]
  },
  {
   "cell_type": "code",
   "execution_count": 58,
   "metadata": {},
   "outputs": [
    {
     "data": {
      "text/plain": [
       "'2,01'"
      ]
     },
     "execution_count": 58,
     "metadata": {},
     "output_type": "execute_result"
    }
   ],
   "source": [
    "value = 2.009\n",
    "res = f'{value:_.2f}'.replace('.',',').replace('_','.')\n",
    "res"
   ]
  },
  {
   "cell_type": "code",
   "execution_count": 5,
   "metadata": {},
   "outputs": [],
   "source": [
    "def convert_column_types(df, list_float_col, list_date_col):\n",
    "    df_view = df.copy()\n",
    "    # df_view[list_float_col] = df_view[list_float_col].astype(str)\n",
    "    for col in list_float_col:\n",
    "        df_view[col] = df_view[col].map(lambda x: f'{x:_.2f}'.replace('.',',').replace('_','.'))\n",
    "    for col in list_date_col:\n",
    "        df_view[col] = df_view[col].map(lambda x: dt.strftime(x, '%d/%m/%Y'))\n",
    "    return df_view"
   ]
  },
  {
   "cell_type": "code",
   "execution_count": 16,
   "metadata": {},
   "outputs": [],
   "source": [
    "df_view = convert_column_types(df_sales, ['valor_venda','taxa_comissao','valor_comissao','taxa_receita','valor_receita'], ['data_venda','data_primeira_parcela','data_ultima_parcela'])\n",
    "dict_rename_sales = {'id_venda':'ID Venda','nome_adm':'Adm','nome_produto':'Produto','nome_funcionario':'Vendedor','grupo':'Grupo','cota':'Cota','projeto':'Projeto','nome_cliente':'Cliente','data_venda':'Data Venda',\n",
    "                'valor_venda':'Valor Venda (R$)','taxa_comissao':'Taxa Comissão (%)','valor_comissao':'Valor Comissão','taxa_receita':'Taxa Receita','valor_receita':'Valor Receita'}\n",
    "df_view_upd = df_view[dict_rename_sales.keys()]\n",
    "df_view_upd = df_view_upd.rename(columns=dict_rename_sales)"
   ]
  },
  {
   "cell_type": "code",
   "execution_count": 17,
   "metadata": {},
   "outputs": [
    {
     "data": {
      "text/html": [
       "<div>\n",
       "<style scoped>\n",
       "    .dataframe tbody tr th:only-of-type {\n",
       "        vertical-align: middle;\n",
       "    }\n",
       "\n",
       "    .dataframe tbody tr th {\n",
       "        vertical-align: top;\n",
       "    }\n",
       "\n",
       "    .dataframe thead th {\n",
       "        text-align: right;\n",
       "    }\n",
       "</style>\n",
       "<table border=\"1\" class=\"dataframe\">\n",
       "  <thead>\n",
       "    <tr style=\"text-align: right;\">\n",
       "      <th></th>\n",
       "      <th>ID Venda</th>\n",
       "      <th>Adm</th>\n",
       "      <th>Produto</th>\n",
       "      <th>Vendedor</th>\n",
       "      <th>Grupo</th>\n",
       "      <th>Cota</th>\n",
       "      <th>Projeto</th>\n",
       "      <th>Cliente</th>\n",
       "      <th>Data Venda</th>\n",
       "      <th>Valor Venda (R$)</th>\n",
       "      <th>Taxa Comissão (%)</th>\n",
       "      <th>Valor Comissão</th>\n",
       "      <th>Taxa Receita</th>\n",
       "      <th>Valor Receita</th>\n",
       "    </tr>\n",
       "  </thead>\n",
       "  <tbody>\n",
       "    <tr>\n",
       "      <th>0</th>\n",
       "      <td>2</td>\n",
       "      <td>BR</td>\n",
       "      <td>BR - Serv</td>\n",
       "      <td>Andyara</td>\n",
       "      <td>43</td>\n",
       "      <td>122</td>\n",
       "      <td>Especial 1</td>\n",
       "      <td>a</td>\n",
       "      <td>27/06/2024</td>\n",
       "      <td>30.000,00</td>\n",
       "      <td>1,70</td>\n",
       "      <td>510,00</td>\n",
       "      <td>4,00</td>\n",
       "      <td>1.200,00</td>\n",
       "    </tr>\n",
       "    <tr>\n",
       "      <th>1</th>\n",
       "      <td>3</td>\n",
       "      <td>Remaza</td>\n",
       "      <td>RMZ Big 75</td>\n",
       "      <td>Andyara</td>\n",
       "      <td>44</td>\n",
       "      <td>1</td>\n",
       "      <td>Especial 3</td>\n",
       "      <td>b</td>\n",
       "      <td>29/06/2024</td>\n",
       "      <td>10.000,00</td>\n",
       "      <td>1,50</td>\n",
       "      <td>150,00</td>\n",
       "      <td>4,50</td>\n",
       "      <td>450,00</td>\n",
       "    </tr>\n",
       "    <tr>\n",
       "      <th>2</th>\n",
       "      <td>4</td>\n",
       "      <td>Santander</td>\n",
       "      <td>SAN</td>\n",
       "      <td>Andyara</td>\n",
       "      <td>0</td>\n",
       "      <td>0</td>\n",
       "      <td>Especial 2</td>\n",
       "      <td>b</td>\n",
       "      <td>02/06/2024</td>\n",
       "      <td>10.000,00</td>\n",
       "      <td>1,50</td>\n",
       "      <td>150,00</td>\n",
       "      <td>4,00</td>\n",
       "      <td>400,00</td>\n",
       "    </tr>\n",
       "  </tbody>\n",
       "</table>\n",
       "</div>"
      ],
      "text/plain": [
       "   ID Venda        Adm     Produto Vendedor  Grupo  Cota     Projeto Cliente  \\\n",
       "0         2         BR   BR - Serv  Andyara     43   122  Especial 1       a   \n",
       "1         3     Remaza  RMZ Big 75  Andyara     44     1  Especial 3       b   \n",
       "2         4  Santander         SAN  Andyara      0     0  Especial 2       b   \n",
       "\n",
       "   Data Venda Valor Venda (R$) Taxa Comissão (%) Valor Comissão Taxa Receita  \\\n",
       "0  27/06/2024        30.000,00              1,70         510,00         4,00   \n",
       "1  29/06/2024        10.000,00              1,50         150,00         4,50   \n",
       "2  02/06/2024        10.000,00              1,50         150,00         4,00   \n",
       "\n",
       "  Valor Receita  \n",
       "0      1.200,00  \n",
       "1        450,00  \n",
       "2        400,00  "
      ]
     },
     "execution_count": 17,
     "metadata": {},
     "output_type": "execute_result"
    }
   ],
   "source": [
    "df_view_upd"
   ]
  },
  {
   "cell_type": "code",
   "execution_count": 7,
   "metadata": {},
   "outputs": [],
   "source": [
    "company_id = 'contato_4b42bcf5-6cb5-47d7-8a4e-6c14b30f7dac'\n",
    "cur.execute(f\"SELECT * FROM sales WHERE company_id = '{company_id}';\")\n",
    "sales_list = list(cur.fetchall())\n",
    "table_sales_columns = [desc[0] for desc in cur.description]\n",
    "df_sales = pd.DataFrame(sales_list, columns=table_sales_columns)\n",
    "df_sales.drop(columns=['company_id'], inplace=True)\n",
    "\n",
    "df_sales['data_venda'] = pd.to_datetime(df_sales['data_venda'], format='%Y-%m-%d')\n",
    "# df_sales['data_venda'] = df_sales['data_venda'].map(lambda x: x.date())\n",
    "df_sales['data_primeira_parcela'] = pd.to_datetime(df_sales['data_primeira_parcela'], format='%Y-%m-%d')\n",
    "df_sales['data_primeira_parcela'] = df_sales['data_primeira_parcela'].map(lambda x: x.date())\n",
    "df_sales['data_ultima_parcela'] = pd.to_datetime(df_sales['data_ultima_parcela'], format='%Y-%m-%d')\n",
    "df_sales['data_ultima_parcela'] = df_sales['data_ultima_parcela'].map(lambda x: x.date())\n",
    "# df_sales[['data_venda','data_primeira_parcela','data_ultima_parcela']] = df_sales[['data_venda','data_primeira_parcela','data_ultima_parcela']].astype('datetime64[ns]')\n",
    "df_sales[['valor_venda','taxa_comissao','valor_comissao','taxa_receita','valor_receita']] = df_sales[['valor_venda','taxa_comissao','valor_comissao','taxa_receita','valor_receita']].astype(float)"
   ]
  },
  {
   "cell_type": "code",
   "execution_count": 8,
   "metadata": {},
   "outputs": [
    {
     "name": "stdout",
     "output_type": "stream",
     "text": [
      "<class 'pandas.core.frame.DataFrame'>\n",
      "RangeIndex: 3 entries, 0 to 2\n",
      "Data columns (total 20 columns):\n",
      " #   Column                 Non-Null Count  Dtype         \n",
      "---  ------                 --------------  -----         \n",
      " 0   id_venda               3 non-null      int64         \n",
      " 1   id_prod_caract         3 non-null      int64         \n",
      " 2   nome_adm               3 non-null      object        \n",
      " 3   nome_produto           3 non-null      object        \n",
      " 4   id_funcionario         3 non-null      int64         \n",
      " 5   nome_funcionario       3 non-null      object        \n",
      " 6   grupo                  3 non-null      int64         \n",
      " 7   cota                   3 non-null      int64         \n",
      " 8   projeto                3 non-null      object        \n",
      " 9   nome_cliente           3 non-null      object        \n",
      " 10  data_venda             3 non-null      datetime64[ns]\n",
      " 11  data_venda_abv         3 non-null      object        \n",
      " 12  data_primeira_parcela  3 non-null      object        \n",
      " 13  data_ultima_parcela    3 non-null      object        \n",
      " 14  valor_venda            3 non-null      float64       \n",
      " 15  taxa_comissao          3 non-null      float64       \n",
      " 16  valor_comissao         3 non-null      float64       \n",
      " 17  taxa_receita           3 non-null      float64       \n",
      " 18  valor_receita          3 non-null      float64       \n",
      " 19  id_income              3 non-null      int64         \n",
      "dtypes: datetime64[ns](1), float64(5), int64(6), object(8)\n",
      "memory usage: 608.0+ bytes\n"
     ]
    }
   ],
   "source": [
    "df_sales.info()"
   ]
  },
  {
   "cell_type": "code",
   "execution_count": 10,
   "metadata": {},
   "outputs": [
    {
     "data": {
      "text/html": [
       "<div>\n",
       "<style scoped>\n",
       "    .dataframe tbody tr th:only-of-type {\n",
       "        vertical-align: middle;\n",
       "    }\n",
       "\n",
       "    .dataframe tbody tr th {\n",
       "        vertical-align: top;\n",
       "    }\n",
       "\n",
       "    .dataframe thead th {\n",
       "        text-align: right;\n",
       "    }\n",
       "</style>\n",
       "<table border=\"1\" class=\"dataframe\">\n",
       "  <thead>\n",
       "    <tr style=\"text-align: right;\">\n",
       "      <th></th>\n",
       "      <th>id_venda</th>\n",
       "      <th>id_prod_caract</th>\n",
       "      <th>nome_adm</th>\n",
       "      <th>nome_produto</th>\n",
       "      <th>id_funcionario</th>\n",
       "      <th>nome_funcionario</th>\n",
       "      <th>grupo</th>\n",
       "      <th>cota</th>\n",
       "      <th>projeto</th>\n",
       "      <th>nome_cliente</th>\n",
       "      <th>data_venda</th>\n",
       "      <th>data_venda_abv</th>\n",
       "      <th>data_primeira_parcela</th>\n",
       "      <th>data_ultima_parcela</th>\n",
       "      <th>valor_venda</th>\n",
       "      <th>taxa_comissao</th>\n",
       "      <th>valor_comissao</th>\n",
       "      <th>taxa_receita</th>\n",
       "      <th>valor_receita</th>\n",
       "      <th>id_income</th>\n",
       "    </tr>\n",
       "  </thead>\n",
       "  <tbody>\n",
       "    <tr>\n",
       "      <th>1</th>\n",
       "      <td>2</td>\n",
       "      <td>24</td>\n",
       "      <td>Magalu</td>\n",
       "      <td>MGL - Auto/Cam B50 B75</td>\n",
       "      <td>3</td>\n",
       "      <td>Roberto Andrade</td>\n",
       "      <td>1</td>\n",
       "      <td>1</td>\n",
       "      <td>Especial 1</td>\n",
       "      <td>a</td>\n",
       "      <td>2024-06-03</td>\n",
       "      <td>2024/06</td>\n",
       "      <td>2024-07-10</td>\n",
       "      <td>2025-03-10</td>\n",
       "      <td>111111111.0</td>\n",
       "      <td>1.4</td>\n",
       "      <td>1555555.55</td>\n",
       "      <td>1.8</td>\n",
       "      <td>2000000.0</td>\n",
       "      <td>4</td>\n",
       "    </tr>\n",
       "  </tbody>\n",
       "</table>\n",
       "</div>"
      ],
      "text/plain": [
       "   id_venda  id_prod_caract nome_adm            nome_produto  id_funcionario  \\\n",
       "1         2              24   Magalu  MGL - Auto/Cam B50 B75               3   \n",
       "\n",
       "  nome_funcionario  grupo  cota     projeto nome_cliente data_venda  \\\n",
       "1  Roberto Andrade      1     1  Especial 1            a 2024-06-03   \n",
       "\n",
       "  data_venda_abv data_primeira_parcela data_ultima_parcela  valor_venda  \\\n",
       "1        2024/06            2024-07-10          2025-03-10  111111111.0   \n",
       "\n",
       "   taxa_comissao  valor_comissao  taxa_receita  valor_receita  id_income  \n",
       "1            1.4      1555555.55           1.8      2000000.0          4  "
      ]
     },
     "execution_count": 10,
     "metadata": {},
     "output_type": "execute_result"
    }
   ],
   "source": [
    "year_selected = 2024\n",
    "month_selected = 6\n",
    "df_sales.loc[(df_sales['data_venda'].dt.year == int(year_selected)) & (df_sales['data_venda'].dt.month == int(month_selected))]"
   ]
  },
  {
   "cell_type": "code",
   "execution_count": 52,
   "metadata": {},
   "outputs": [
    {
     "data": {
      "text/html": [
       "<div>\n",
       "<style scoped>\n",
       "    .dataframe tbody tr th:only-of-type {\n",
       "        vertical-align: middle;\n",
       "    }\n",
       "\n",
       "    .dataframe tbody tr th {\n",
       "        vertical-align: top;\n",
       "    }\n",
       "\n",
       "    .dataframe thead th {\n",
       "        text-align: right;\n",
       "    }\n",
       "</style>\n",
       "<table border=\"1\" class=\"dataframe\">\n",
       "  <thead>\n",
       "    <tr style=\"text-align: right;\">\n",
       "      <th></th>\n",
       "      <th>id_venda</th>\n",
       "      <th>id_prod_caract</th>\n",
       "      <th>nome_adm</th>\n",
       "      <th>nome_produto</th>\n",
       "      <th>id_funcionario</th>\n",
       "      <th>nome_funcionario</th>\n",
       "      <th>grupo</th>\n",
       "      <th>cota</th>\n",
       "      <th>projeto</th>\n",
       "      <th>nome_cliente</th>\n",
       "      <th>data_venda</th>\n",
       "      <th>data_venda_abv</th>\n",
       "      <th>data_primeira_parcela</th>\n",
       "      <th>data_ultima_parcela</th>\n",
       "      <th>valor_venda</th>\n",
       "      <th>taxa_comissao</th>\n",
       "      <th>valor_comissao</th>\n",
       "      <th>taxa_receita</th>\n",
       "      <th>valor_receita</th>\n",
       "      <th>id_income</th>\n",
       "    </tr>\n",
       "  </thead>\n",
       "  <tbody>\n",
       "    <tr>\n",
       "      <th>0</th>\n",
       "      <td>2</td>\n",
       "      <td>10</td>\n",
       "      <td>BR</td>\n",
       "      <td>BR - Serv</td>\n",
       "      <td>1</td>\n",
       "      <td>Andyara</td>\n",
       "      <td>43</td>\n",
       "      <td>122</td>\n",
       "      <td>Especial 1</td>\n",
       "      <td>a</td>\n",
       "      <td>2024-06-27</td>\n",
       "      <td>2024/06</td>\n",
       "      <td>2024-07-10</td>\n",
       "      <td>2024-12-10</td>\n",
       "      <td>30000.0</td>\n",
       "      <td>1.7</td>\n",
       "      <td>510.0</td>\n",
       "      <td>4.0</td>\n",
       "      <td>1200.0</td>\n",
       "      <td>2</td>\n",
       "    </tr>\n",
       "    <tr>\n",
       "      <th>1</th>\n",
       "      <td>3</td>\n",
       "      <td>306</td>\n",
       "      <td>Remaza</td>\n",
       "      <td>RMZ Big 75</td>\n",
       "      <td>1</td>\n",
       "      <td>Andyara</td>\n",
       "      <td>44</td>\n",
       "      <td>1</td>\n",
       "      <td>Especial 3</td>\n",
       "      <td>b</td>\n",
       "      <td>2024-06-29</td>\n",
       "      <td>2024/06</td>\n",
       "      <td>2024-07-10</td>\n",
       "      <td>2025-07-10</td>\n",
       "      <td>10000.0</td>\n",
       "      <td>1.5</td>\n",
       "      <td>150.0</td>\n",
       "      <td>4.5</td>\n",
       "      <td>450.0</td>\n",
       "      <td>46</td>\n",
       "    </tr>\n",
       "    <tr>\n",
       "      <th>2</th>\n",
       "      <td>4</td>\n",
       "      <td>319</td>\n",
       "      <td>Santander</td>\n",
       "      <td>SAN</td>\n",
       "      <td>1</td>\n",
       "      <td>Andyara</td>\n",
       "      <td>0</td>\n",
       "      <td>0</td>\n",
       "      <td>Especial 2</td>\n",
       "      <td>b</td>\n",
       "      <td>2024-06-02</td>\n",
       "      <td>2024/06</td>\n",
       "      <td>2024-07-10</td>\n",
       "      <td>2024-12-10</td>\n",
       "      <td>10000.0</td>\n",
       "      <td>1.5</td>\n",
       "      <td>150.0</td>\n",
       "      <td>4.0</td>\n",
       "      <td>400.0</td>\n",
       "      <td>48</td>\n",
       "    </tr>\n",
       "  </tbody>\n",
       "</table>\n",
       "</div>"
      ],
      "text/plain": [
       "   id_venda  id_prod_caract   nome_adm nome_produto  id_funcionario  \\\n",
       "0         2              10         BR    BR - Serv               1   \n",
       "1         3             306     Remaza   RMZ Big 75               1   \n",
       "2         4             319  Santander          SAN               1   \n",
       "\n",
       "  nome_funcionario  grupo  cota     projeto nome_cliente  data_venda  \\\n",
       "0          Andyara     43   122  Especial 1            a  2024-06-27   \n",
       "1          Andyara     44     1  Especial 3            b  2024-06-29   \n",
       "2          Andyara      0     0  Especial 2            b  2024-06-02   \n",
       "\n",
       "  data_venda_abv data_primeira_parcela data_ultima_parcela  valor_venda  \\\n",
       "0        2024/06            2024-07-10          2024-12-10      30000.0   \n",
       "1        2024/06            2024-07-10          2025-07-10      10000.0   \n",
       "2        2024/06            2024-07-10          2024-12-10      10000.0   \n",
       "\n",
       "   taxa_comissao  valor_comissao  taxa_receita  valor_receita  id_income  \n",
       "0            1.7           510.0           4.0         1200.0          2  \n",
       "1            1.5           150.0           4.5          450.0         46  \n",
       "2            1.5           150.0           4.0          400.0         48  "
      ]
     },
     "execution_count": 52,
     "metadata": {},
     "output_type": "execute_result"
    }
   ],
   "source": [
    "df_sales"
   ]
  },
  {
   "cell_type": "code",
   "execution_count": 53,
   "metadata": {},
   "outputs": [
    {
     "name": "stdout",
     "output_type": "stream",
     "text": [
      "<class 'pandas.core.frame.DataFrame'>\n",
      "RangeIndex: 3 entries, 0 to 2\n",
      "Data columns (total 20 columns):\n",
      " #   Column                 Non-Null Count  Dtype  \n",
      "---  ------                 --------------  -----  \n",
      " 0   id_venda               3 non-null      int64  \n",
      " 1   id_prod_caract         3 non-null      int64  \n",
      " 2   nome_adm               3 non-null      object \n",
      " 3   nome_produto           3 non-null      object \n",
      " 4   id_funcionario         3 non-null      int64  \n",
      " 5   nome_funcionario       3 non-null      object \n",
      " 6   grupo                  3 non-null      int64  \n",
      " 7   cota                   3 non-null      int64  \n",
      " 8   projeto                3 non-null      object \n",
      " 9   nome_cliente           3 non-null      object \n",
      " 10  data_venda             3 non-null      object \n",
      " 11  data_venda_abv         3 non-null      object \n",
      " 12  data_primeira_parcela  3 non-null      object \n",
      " 13  data_ultima_parcela    3 non-null      object \n",
      " 14  valor_venda            3 non-null      float64\n",
      " 15  taxa_comissao          3 non-null      float64\n",
      " 16  valor_comissao         3 non-null      float64\n",
      " 17  taxa_receita           3 non-null      float64\n",
      " 18  valor_receita          3 non-null      float64\n",
      " 19  id_income              3 non-null      int64  \n",
      "dtypes: float64(5), int64(6), object(9)\n",
      "memory usage: 608.0+ bytes\n"
     ]
    }
   ],
   "source": [
    "df_sales.info()"
   ]
  },
  {
   "cell_type": "code",
   "execution_count": 54,
   "metadata": {},
   "outputs": [
    {
     "name": "stdout",
     "output_type": "stream",
     "text": [
      "<class 'numpy.int64'>\n",
      "<class 'numpy.int64'>\n",
      "<class 'str'>\n",
      "<class 'str'>\n",
      "<class 'numpy.int64'>\n",
      "<class 'str'>\n",
      "<class 'numpy.int64'>\n",
      "<class 'numpy.int64'>\n",
      "<class 'str'>\n",
      "<class 'str'>\n",
      "<class 'datetime.date'>\n",
      "<class 'str'>\n",
      "<class 'datetime.date'>\n",
      "<class 'datetime.date'>\n",
      "<class 'numpy.float64'>\n",
      "<class 'numpy.float64'>\n",
      "<class 'numpy.float64'>\n",
      "<class 'numpy.float64'>\n",
      "<class 'numpy.float64'>\n",
      "<class 'numpy.int64'>\n"
     ]
    }
   ],
   "source": [
    "for col in df_sales.columns:\n",
    "    print(type(df_sales[col][0]))"
   ]
  },
  {
   "cell_type": "code",
   "execution_count": 42,
   "metadata": {},
   "outputs": [
    {
     "data": {
      "text/html": [
       "<div>\n",
       "<style scoped>\n",
       "    .dataframe tbody tr th:only-of-type {\n",
       "        vertical-align: middle;\n",
       "    }\n",
       "\n",
       "    .dataframe tbody tr th {\n",
       "        vertical-align: top;\n",
       "    }\n",
       "\n",
       "    .dataframe thead th {\n",
       "        text-align: right;\n",
       "    }\n",
       "</style>\n",
       "<table border=\"1\" class=\"dataframe\">\n",
       "  <thead>\n",
       "    <tr style=\"text-align: right;\">\n",
       "      <th></th>\n",
       "      <th>id_venda</th>\n",
       "      <th>id_prod_caract</th>\n",
       "      <th>nome_adm</th>\n",
       "      <th>nome_produto</th>\n",
       "      <th>id_funcionario</th>\n",
       "      <th>nome_funcionario</th>\n",
       "      <th>grupo</th>\n",
       "      <th>cota</th>\n",
       "      <th>projeto</th>\n",
       "      <th>nome_cliente</th>\n",
       "      <th>data_venda</th>\n",
       "      <th>data_venda_abv</th>\n",
       "      <th>data_primeira_parcela</th>\n",
       "      <th>data_ultima_parcela</th>\n",
       "      <th>valor_venda</th>\n",
       "      <th>taxa_comissao</th>\n",
       "      <th>valor_comissao</th>\n",
       "      <th>taxa_receita</th>\n",
       "      <th>valor_receita</th>\n",
       "      <th>id_income</th>\n",
       "    </tr>\n",
       "  </thead>\n",
       "  <tbody>\n",
       "    <tr>\n",
       "      <th>0</th>\n",
       "      <td>2</td>\n",
       "      <td>10</td>\n",
       "      <td>BR</td>\n",
       "      <td>BR - Serv</td>\n",
       "      <td>1</td>\n",
       "      <td>Andyara</td>\n",
       "      <td>43</td>\n",
       "      <td>122</td>\n",
       "      <td>Especial 1</td>\n",
       "      <td>a</td>\n",
       "      <td>2024-06-27</td>\n",
       "      <td>2024/06</td>\n",
       "      <td>2024-07-10</td>\n",
       "      <td>2024-12-10</td>\n",
       "      <td>30000.0</td>\n",
       "      <td>1.7</td>\n",
       "      <td>510.0</td>\n",
       "      <td>4.0</td>\n",
       "      <td>1200.0</td>\n",
       "      <td>2</td>\n",
       "    </tr>\n",
       "    <tr>\n",
       "      <th>1</th>\n",
       "      <td>3</td>\n",
       "      <td>306</td>\n",
       "      <td>Remaza</td>\n",
       "      <td>RMZ Big 75</td>\n",
       "      <td>1</td>\n",
       "      <td>Andyara</td>\n",
       "      <td>44</td>\n",
       "      <td>1</td>\n",
       "      <td>Especial 3</td>\n",
       "      <td>b</td>\n",
       "      <td>2024-06-29</td>\n",
       "      <td>2024/06</td>\n",
       "      <td>2024-07-10</td>\n",
       "      <td>2025-07-10</td>\n",
       "      <td>10000.0</td>\n",
       "      <td>1.5</td>\n",
       "      <td>150.0</td>\n",
       "      <td>4.5</td>\n",
       "      <td>450.0</td>\n",
       "      <td>46</td>\n",
       "    </tr>\n",
       "    <tr>\n",
       "      <th>2</th>\n",
       "      <td>4</td>\n",
       "      <td>319</td>\n",
       "      <td>Santander</td>\n",
       "      <td>SAN</td>\n",
       "      <td>1</td>\n",
       "      <td>Andyara</td>\n",
       "      <td>0</td>\n",
       "      <td>0</td>\n",
       "      <td>Especial 2</td>\n",
       "      <td>b</td>\n",
       "      <td>2024-06-02</td>\n",
       "      <td>2024/06</td>\n",
       "      <td>2024-07-10</td>\n",
       "      <td>2024-12-10</td>\n",
       "      <td>10000.0</td>\n",
       "      <td>1.5</td>\n",
       "      <td>150.0</td>\n",
       "      <td>4.0</td>\n",
       "      <td>400.0</td>\n",
       "      <td>48</td>\n",
       "    </tr>\n",
       "  </tbody>\n",
       "</table>\n",
       "</div>"
      ],
      "text/plain": [
       "   id_venda  id_prod_caract   nome_adm nome_produto  id_funcionario  \\\n",
       "0         2              10         BR    BR - Serv               1   \n",
       "1         3             306     Remaza   RMZ Big 75               1   \n",
       "2         4             319  Santander          SAN               1   \n",
       "\n",
       "  nome_funcionario  grupo  cota     projeto nome_cliente  data_venda  \\\n",
       "0          Andyara     43   122  Especial 1            a  2024-06-27   \n",
       "1          Andyara     44     1  Especial 3            b  2024-06-29   \n",
       "2          Andyara      0     0  Especial 2            b  2024-06-02   \n",
       "\n",
       "  data_venda_abv data_primeira_parcela data_ultima_parcela  valor_venda  \\\n",
       "0        2024/06            2024-07-10          2024-12-10      30000.0   \n",
       "1        2024/06            2024-07-10          2025-07-10      10000.0   \n",
       "2        2024/06            2024-07-10          2024-12-10      10000.0   \n",
       "\n",
       "   taxa_comissao  valor_comissao  taxa_receita  valor_receita  id_income  \n",
       "0            1.7           510.0           4.0         1200.0          2  \n",
       "1            1.5           150.0           4.5          450.0         46  \n",
       "2            1.5           150.0           4.0          400.0         48  "
      ]
     },
     "execution_count": 42,
     "metadata": {},
     "output_type": "execute_result"
    }
   ],
   "source": [
    "df_sales"
   ]
  },
  {
   "cell_type": "code",
   "execution_count": 27,
   "metadata": {},
   "outputs": [],
   "source": [
    "df_sales[['valor_venda','taxa_comissao','valor_comissao','taxa_receita','valor_receita']] = df_sales[['valor_venda','taxa_comissao','valor_comissao','taxa_receita','valor_receita']].astype(float)"
   ]
  },
  {
   "cell_type": "code",
   "execution_count": 30,
   "metadata": {},
   "outputs": [
    {
     "ename": "ValueError",
     "evalue": "to assemble mappings requires at least that [year, month, day] be specified: [day,month,year] is missing",
     "output_type": "error",
     "traceback": [
      "\u001b[1;31m---------------------------------------------------------------------------\u001b[0m",
      "\u001b[1;31mValueError\u001b[0m                                Traceback (most recent call last)",
      "Cell \u001b[1;32mIn[30], line 1\u001b[0m\n\u001b[1;32m----> 1\u001b[0m \u001b[43mpd\u001b[49m\u001b[38;5;241;43m.\u001b[39;49m\u001b[43mto_datetime\u001b[49m\u001b[43m(\u001b[49m\u001b[43mdf_sales\u001b[49m\u001b[43m[\u001b[49m\u001b[43m[\u001b[49m\u001b[38;5;124;43m'\u001b[39;49m\u001b[38;5;124;43mdata_venda\u001b[39;49m\u001b[38;5;124;43m'\u001b[39;49m\u001b[43m,\u001b[49m\u001b[38;5;124;43m'\u001b[39;49m\u001b[38;5;124;43mdata_primeira_parcela\u001b[39;49m\u001b[38;5;124;43m'\u001b[39;49m\u001b[43m,\u001b[49m\u001b[38;5;124;43m'\u001b[39;49m\u001b[38;5;124;43mdata_ultima_parcela\u001b[39;49m\u001b[38;5;124;43m'\u001b[39;49m\u001b[43m]\u001b[49m\u001b[43m]\u001b[49m\u001b[43m)\u001b[49m\n",
      "File \u001b[1;32mc:\\Users\\joaopedro\\AppData\\Local\\Programs\\Python\\Python38\\lib\\site-packages\\pandas\\core\\tools\\datetimes.py:1053\u001b[0m, in \u001b[0;36mto_datetime\u001b[1;34m(arg, errors, dayfirst, yearfirst, utc, format, exact, unit, infer_datetime_format, origin, cache)\u001b[0m\n\u001b[0;32m   1051\u001b[0m         result \u001b[38;5;241m=\u001b[39m arg\u001b[38;5;241m.\u001b[39m_constructor(values, index\u001b[38;5;241m=\u001b[39marg\u001b[38;5;241m.\u001b[39mindex, name\u001b[38;5;241m=\u001b[39marg\u001b[38;5;241m.\u001b[39mname)\n\u001b[0;32m   1052\u001b[0m \u001b[38;5;28;01melif\u001b[39;00m \u001b[38;5;28misinstance\u001b[39m(arg, (ABCDataFrame, abc\u001b[38;5;241m.\u001b[39mMutableMapping)):\n\u001b[1;32m-> 1053\u001b[0m     result \u001b[38;5;241m=\u001b[39m \u001b[43m_assemble_from_unit_mappings\u001b[49m\u001b[43m(\u001b[49m\u001b[43marg\u001b[49m\u001b[43m,\u001b[49m\u001b[43m \u001b[49m\u001b[43merrors\u001b[49m\u001b[43m,\u001b[49m\u001b[43m \u001b[49m\u001b[43mutc\u001b[49m\u001b[43m)\u001b[49m\n\u001b[0;32m   1054\u001b[0m \u001b[38;5;28;01melif\u001b[39;00m \u001b[38;5;28misinstance\u001b[39m(arg, Index):\n\u001b[0;32m   1055\u001b[0m     cache_array \u001b[38;5;241m=\u001b[39m _maybe_cache(arg, \u001b[38;5;28mformat\u001b[39m, cache, convert_listlike)\n",
      "File \u001b[1;32mc:\\Users\\joaopedro\\AppData\\Local\\Programs\\Python\\Python38\\lib\\site-packages\\pandas\\core\\tools\\datetimes.py:1169\u001b[0m, in \u001b[0;36m_assemble_from_unit_mappings\u001b[1;34m(arg, errors, utc)\u001b[0m\n\u001b[0;32m   1167\u001b[0m \u001b[38;5;28;01mif\u001b[39;00m \u001b[38;5;28mlen\u001b[39m(req):\n\u001b[0;32m   1168\u001b[0m     _required \u001b[38;5;241m=\u001b[39m \u001b[38;5;124m\"\u001b[39m\u001b[38;5;124m,\u001b[39m\u001b[38;5;124m\"\u001b[39m\u001b[38;5;241m.\u001b[39mjoin(req)\n\u001b[1;32m-> 1169\u001b[0m     \u001b[38;5;28;01mraise\u001b[39;00m \u001b[38;5;167;01mValueError\u001b[39;00m(\n\u001b[0;32m   1170\u001b[0m         \u001b[38;5;124m\"\u001b[39m\u001b[38;5;124mto assemble mappings requires at least that \u001b[39m\u001b[38;5;124m\"\u001b[39m\n\u001b[0;32m   1171\u001b[0m         \u001b[38;5;124mf\u001b[39m\u001b[38;5;124m\"\u001b[39m\u001b[38;5;124m[year, month, day] be specified: [\u001b[39m\u001b[38;5;132;01m{\u001b[39;00m_required\u001b[38;5;132;01m}\u001b[39;00m\u001b[38;5;124m] is missing\u001b[39m\u001b[38;5;124m\"\u001b[39m\n\u001b[0;32m   1172\u001b[0m     )\n\u001b[0;32m   1174\u001b[0m \u001b[38;5;66;03m# keys we don't recognize\u001b[39;00m\n\u001b[0;32m   1175\u001b[0m excess \u001b[38;5;241m=\u001b[39m \u001b[38;5;28msorted\u001b[39m(\u001b[38;5;28mset\u001b[39m(unit_rev\u001b[38;5;241m.\u001b[39mkeys()) \u001b[38;5;241m-\u001b[39m \u001b[38;5;28mset\u001b[39m(_unit_map\u001b[38;5;241m.\u001b[39mvalues()))\n",
      "\u001b[1;31mValueError\u001b[0m: to assemble mappings requires at least that [year, month, day] be specified: [day,month,year] is missing"
     ]
    }
   ],
   "source": [
    "pd.to_datetime(df_sales[['data_venda','data_primeira_parcela','data_ultima_parcela']])"
   ]
  },
  {
   "cell_type": "code",
   "execution_count": 36,
   "metadata": {},
   "outputs": [
    {
     "data": {
      "text/html": [
       "<div>\n",
       "<style scoped>\n",
       "    .dataframe tbody tr th:only-of-type {\n",
       "        vertical-align: middle;\n",
       "    }\n",
       "\n",
       "    .dataframe tbody tr th {\n",
       "        vertical-align: top;\n",
       "    }\n",
       "\n",
       "    .dataframe thead th {\n",
       "        text-align: right;\n",
       "    }\n",
       "</style>\n",
       "<table border=\"1\" class=\"dataframe\">\n",
       "  <thead>\n",
       "    <tr style=\"text-align: right;\">\n",
       "      <th></th>\n",
       "      <th>data_venda</th>\n",
       "      <th>data_primeira_parcela</th>\n",
       "      <th>data_ultima_parcela</th>\n",
       "    </tr>\n",
       "  </thead>\n",
       "  <tbody>\n",
       "    <tr>\n",
       "      <th>0</th>\n",
       "      <td>2024-06-27</td>\n",
       "      <td>2024-07-10</td>\n",
       "      <td>2024-12-10</td>\n",
       "    </tr>\n",
       "    <tr>\n",
       "      <th>1</th>\n",
       "      <td>2024-06-29</td>\n",
       "      <td>2024-07-10</td>\n",
       "      <td>2025-07-10</td>\n",
       "    </tr>\n",
       "  </tbody>\n",
       "</table>\n",
       "</div>"
      ],
      "text/plain": [
       "  data_venda data_primeira_parcela data_ultima_parcela\n",
       "0 2024-06-27            2024-07-10          2024-12-10\n",
       "1 2024-06-29            2024-07-10          2025-07-10"
      ]
     },
     "execution_count": 36,
     "metadata": {},
     "output_type": "execute_result"
    }
   ],
   "source": [
    "df_sales[['data_venda','data_primeira_parcela','data_ultima_parcela']].astype('datetime64[ns]')"
   ]
  },
  {
   "cell_type": "code",
   "execution_count": 29,
   "metadata": {},
   "outputs": [
    {
     "data": {
      "text/html": [
       "<div>\n",
       "<style scoped>\n",
       "    .dataframe tbody tr th:only-of-type {\n",
       "        vertical-align: middle;\n",
       "    }\n",
       "\n",
       "    .dataframe tbody tr th {\n",
       "        vertical-align: top;\n",
       "    }\n",
       "\n",
       "    .dataframe thead th {\n",
       "        text-align: right;\n",
       "    }\n",
       "</style>\n",
       "<table border=\"1\" class=\"dataframe\">\n",
       "  <thead>\n",
       "    <tr style=\"text-align: right;\">\n",
       "      <th></th>\n",
       "      <th>id_venda</th>\n",
       "      <th>id_prod_caract</th>\n",
       "      <th>nome_adm</th>\n",
       "      <th>nome_produto</th>\n",
       "      <th>id_funcionario</th>\n",
       "      <th>nome_funcionario</th>\n",
       "      <th>grupo</th>\n",
       "      <th>cota</th>\n",
       "      <th>projeto</th>\n",
       "      <th>nome_cliente</th>\n",
       "      <th>data_venda</th>\n",
       "      <th>data_venda_abv</th>\n",
       "      <th>data_primeira_parcela</th>\n",
       "      <th>data_ultima_parcela</th>\n",
       "      <th>valor_venda</th>\n",
       "      <th>taxa_comissao</th>\n",
       "      <th>valor_comissao</th>\n",
       "      <th>taxa_receita</th>\n",
       "      <th>valor_receita</th>\n",
       "      <th>id_income</th>\n",
       "    </tr>\n",
       "  </thead>\n",
       "  <tbody>\n",
       "    <tr>\n",
       "      <th>0</th>\n",
       "      <td>2</td>\n",
       "      <td>10</td>\n",
       "      <td>BR</td>\n",
       "      <td>BR - Serv</td>\n",
       "      <td>1</td>\n",
       "      <td>Andyara</td>\n",
       "      <td>43</td>\n",
       "      <td>122</td>\n",
       "      <td>Especial 1</td>\n",
       "      <td>a</td>\n",
       "      <td>2024-06-27</td>\n",
       "      <td>2024/06</td>\n",
       "      <td>2024-07-10</td>\n",
       "      <td>2024-12-10</td>\n",
       "      <td>30000.0</td>\n",
       "      <td>1.7</td>\n",
       "      <td>510.0</td>\n",
       "      <td>4.0</td>\n",
       "      <td>1200.0</td>\n",
       "      <td>2</td>\n",
       "    </tr>\n",
       "    <tr>\n",
       "      <th>1</th>\n",
       "      <td>3</td>\n",
       "      <td>306</td>\n",
       "      <td>Remaza</td>\n",
       "      <td>RMZ Big 75</td>\n",
       "      <td>1</td>\n",
       "      <td>Andyara</td>\n",
       "      <td>44</td>\n",
       "      <td>1</td>\n",
       "      <td>Especial 3</td>\n",
       "      <td>b</td>\n",
       "      <td>2024-06-29</td>\n",
       "      <td>2024/06</td>\n",
       "      <td>2024-07-10</td>\n",
       "      <td>2025-07-10</td>\n",
       "      <td>10000.0</td>\n",
       "      <td>1.5</td>\n",
       "      <td>150.0</td>\n",
       "      <td>4.5</td>\n",
       "      <td>450.0</td>\n",
       "      <td>46</td>\n",
       "    </tr>\n",
       "  </tbody>\n",
       "</table>\n",
       "</div>"
      ],
      "text/plain": [
       "   id_venda  id_prod_caract nome_adm nome_produto  id_funcionario  \\\n",
       "0         2              10       BR    BR - Serv               1   \n",
       "1         3             306   Remaza   RMZ Big 75               1   \n",
       "\n",
       "  nome_funcionario  grupo  cota     projeto nome_cliente  data_venda  \\\n",
       "0          Andyara     43   122  Especial 1            a  2024-06-27   \n",
       "1          Andyara     44     1  Especial 3            b  2024-06-29   \n",
       "\n",
       "  data_venda_abv data_primeira_parcela data_ultima_parcela  valor_venda  \\\n",
       "0        2024/06            2024-07-10          2024-12-10      30000.0   \n",
       "1        2024/06            2024-07-10          2025-07-10      10000.0   \n",
       "\n",
       "   taxa_comissao  valor_comissao  taxa_receita  valor_receita  id_income  \n",
       "0            1.7           510.0           4.0         1200.0          2  \n",
       "1            1.5           150.0           4.5          450.0         46  "
      ]
     },
     "execution_count": 29,
     "metadata": {},
     "output_type": "execute_result"
    }
   ],
   "source": [
    "df_sales"
   ]
  },
  {
   "cell_type": "code",
   "execution_count": 28,
   "metadata": {},
   "outputs": [
    {
     "name": "stdout",
     "output_type": "stream",
     "text": [
      "<class 'pandas.core.frame.DataFrame'>\n",
      "RangeIndex: 2 entries, 0 to 1\n",
      "Data columns (total 20 columns):\n",
      " #   Column                 Non-Null Count  Dtype  \n",
      "---  ------                 --------------  -----  \n",
      " 0   id_venda               2 non-null      int64  \n",
      " 1   id_prod_caract         2 non-null      int64  \n",
      " 2   nome_adm               2 non-null      object \n",
      " 3   nome_produto           2 non-null      object \n",
      " 4   id_funcionario         2 non-null      int64  \n",
      " 5   nome_funcionario       2 non-null      object \n",
      " 6   grupo                  2 non-null      int64  \n",
      " 7   cota                   2 non-null      int64  \n",
      " 8   projeto                2 non-null      object \n",
      " 9   nome_cliente           2 non-null      object \n",
      " 10  data_venda             2 non-null      object \n",
      " 11  data_venda_abv         2 non-null      object \n",
      " 12  data_primeira_parcela  2 non-null      object \n",
      " 13  data_ultima_parcela    2 non-null      object \n",
      " 14  valor_venda            2 non-null      float64\n",
      " 15  taxa_comissao          2 non-null      float64\n",
      " 16  valor_comissao         2 non-null      float64\n",
      " 17  taxa_receita           2 non-null      float64\n",
      " 18  valor_receita          2 non-null      float64\n",
      " 19  id_income              2 non-null      int64  \n",
      "dtypes: float64(5), int64(6), object(9)\n",
      "memory usage: 448.0+ bytes\n"
     ]
    }
   ],
   "source": [
    "df_sales.info()"
   ]
  },
  {
   "cell_type": "code",
   "execution_count": null,
   "metadata": {},
   "outputs": [],
   "source": [
    "df.apply(lambda x: x.astype(float) if type(x) == )"
   ]
  },
  {
   "cell_type": "code",
   "execution_count": 3,
   "metadata": {},
   "outputs": [
    {
     "data": {
      "text/plain": [
       "['col1', 'col3', 'col4']"
      ]
     },
     "execution_count": 3,
     "metadata": {},
     "output_type": "execute_result"
    }
   ],
   "source": [
    "df = pd.DataFrame({'col1': ['1','2','3'], 'col2': [4,5,6], 'col3': [7,8,9], 'col4': ['a','b','c']})\n",
    "selected_cols = ['col1'] + list(df.columns[2:])\n",
    "selected_cols"
   ]
  },
  {
   "cell_type": "code",
   "execution_count": 12,
   "metadata": {},
   "outputs": [
    {
     "data": {
      "text/plain": [
       "8"
      ]
     },
     "execution_count": 12,
     "metadata": {},
     "output_type": "execute_result"
    }
   ],
   "source": [
    "df[df['col1'] == '2']['col3'].values[0]"
   ]
  },
  {
   "cell_type": "code",
   "execution_count": 12,
   "metadata": {},
   "outputs": [
    {
     "ename": "ValueError",
     "evalue": "Unable to parse string \"a\" at position 0",
     "output_type": "error",
     "traceback": [
      "\u001b[1;31m---------------------------------------------------------------------------\u001b[0m",
      "\u001b[1;31mValueError\u001b[0m                                Traceback (most recent call last)",
      "File \u001b[1;32mc:\\Users\\joaopedro\\AppData\\Local\\Programs\\Python\\Python38\\lib\\site-packages\\pandas\\_libs\\lib.pyx:2280\u001b[0m, in \u001b[0;36mpandas._libs.lib.maybe_convert_numeric\u001b[1;34m()\u001b[0m\n",
      "\u001b[1;31mValueError\u001b[0m: Unable to parse string \"a\"",
      "\nDuring handling of the above exception, another exception occurred:\n",
      "\u001b[1;31mValueError\u001b[0m                                Traceback (most recent call last)",
      "Cell \u001b[1;32mIn[12], line 1\u001b[0m\n\u001b[1;32m----> 1\u001b[0m \u001b[43mdf\u001b[49m\u001b[38;5;241;43m.\u001b[39;49m\u001b[43mapply\u001b[49m\u001b[43m(\u001b[49m\u001b[43mpd\u001b[49m\u001b[38;5;241;43m.\u001b[39;49m\u001b[43mto_numeric\u001b[49m\u001b[43m,\u001b[49m\u001b[43m \u001b[49m\u001b[43mdowncast\u001b[49m\u001b[38;5;241;43m=\u001b[39;49m\u001b[38;5;124;43m'\u001b[39;49m\u001b[38;5;124;43mfloat\u001b[39;49m\u001b[38;5;124;43m'\u001b[39;49m\u001b[43m)\u001b[49m\n",
      "File \u001b[1;32mc:\\Users\\joaopedro\\AppData\\Local\\Programs\\Python\\Python38\\lib\\site-packages\\pandas\\core\\frame.py:9423\u001b[0m, in \u001b[0;36mDataFrame.apply\u001b[1;34m(self, func, axis, raw, result_type, args, **kwargs)\u001b[0m\n\u001b[0;32m   9412\u001b[0m \u001b[38;5;28;01mfrom\u001b[39;00m \u001b[38;5;21;01mpandas\u001b[39;00m\u001b[38;5;21;01m.\u001b[39;00m\u001b[38;5;21;01mcore\u001b[39;00m\u001b[38;5;21;01m.\u001b[39;00m\u001b[38;5;21;01mapply\u001b[39;00m \u001b[38;5;28;01mimport\u001b[39;00m frame_apply\n\u001b[0;32m   9414\u001b[0m op \u001b[38;5;241m=\u001b[39m frame_apply(\n\u001b[0;32m   9415\u001b[0m     \u001b[38;5;28mself\u001b[39m,\n\u001b[0;32m   9416\u001b[0m     func\u001b[38;5;241m=\u001b[39mfunc,\n\u001b[1;32m   (...)\u001b[0m\n\u001b[0;32m   9421\u001b[0m     kwargs\u001b[38;5;241m=\u001b[39mkwargs,\n\u001b[0;32m   9422\u001b[0m )\n\u001b[1;32m-> 9423\u001b[0m \u001b[38;5;28;01mreturn\u001b[39;00m \u001b[43mop\u001b[49m\u001b[38;5;241;43m.\u001b[39;49m\u001b[43mapply\u001b[49m\u001b[43m(\u001b[49m\u001b[43m)\u001b[49m\u001b[38;5;241m.\u001b[39m__finalize__(\u001b[38;5;28mself\u001b[39m, method\u001b[38;5;241m=\u001b[39m\u001b[38;5;124m\"\u001b[39m\u001b[38;5;124mapply\u001b[39m\u001b[38;5;124m\"\u001b[39m)\n",
      "File \u001b[1;32mc:\\Users\\joaopedro\\AppData\\Local\\Programs\\Python\\Python38\\lib\\site-packages\\pandas\\core\\apply.py:678\u001b[0m, in \u001b[0;36mFrameApply.apply\u001b[1;34m(self)\u001b[0m\n\u001b[0;32m    675\u001b[0m \u001b[38;5;28;01melif\u001b[39;00m \u001b[38;5;28mself\u001b[39m\u001b[38;5;241m.\u001b[39mraw:\n\u001b[0;32m    676\u001b[0m     \u001b[38;5;28;01mreturn\u001b[39;00m \u001b[38;5;28mself\u001b[39m\u001b[38;5;241m.\u001b[39mapply_raw()\n\u001b[1;32m--> 678\u001b[0m \u001b[38;5;28;01mreturn\u001b[39;00m \u001b[38;5;28;43mself\u001b[39;49m\u001b[38;5;241;43m.\u001b[39;49m\u001b[43mapply_standard\u001b[49m\u001b[43m(\u001b[49m\u001b[43m)\u001b[49m\n",
      "File \u001b[1;32mc:\\Users\\joaopedro\\AppData\\Local\\Programs\\Python\\Python38\\lib\\site-packages\\pandas\\core\\apply.py:798\u001b[0m, in \u001b[0;36mFrameApply.apply_standard\u001b[1;34m(self)\u001b[0m\n\u001b[0;32m    797\u001b[0m \u001b[38;5;28;01mdef\u001b[39;00m \u001b[38;5;21mapply_standard\u001b[39m(\u001b[38;5;28mself\u001b[39m):\n\u001b[1;32m--> 798\u001b[0m     results, res_index \u001b[38;5;241m=\u001b[39m \u001b[38;5;28;43mself\u001b[39;49m\u001b[38;5;241;43m.\u001b[39;49m\u001b[43mapply_series_generator\u001b[49m\u001b[43m(\u001b[49m\u001b[43m)\u001b[49m\n\u001b[0;32m    800\u001b[0m     \u001b[38;5;66;03m# wrap results\u001b[39;00m\n\u001b[0;32m    801\u001b[0m     \u001b[38;5;28;01mreturn\u001b[39;00m \u001b[38;5;28mself\u001b[39m\u001b[38;5;241m.\u001b[39mwrap_results(results, res_index)\n",
      "File \u001b[1;32mc:\\Users\\joaopedro\\AppData\\Local\\Programs\\Python\\Python38\\lib\\site-packages\\pandas\\core\\apply.py:814\u001b[0m, in \u001b[0;36mFrameApply.apply_series_generator\u001b[1;34m(self)\u001b[0m\n\u001b[0;32m    811\u001b[0m \u001b[38;5;28;01mwith\u001b[39;00m option_context(\u001b[38;5;124m\"\u001b[39m\u001b[38;5;124mmode.chained_assignment\u001b[39m\u001b[38;5;124m\"\u001b[39m, \u001b[38;5;28;01mNone\u001b[39;00m):\n\u001b[0;32m    812\u001b[0m     \u001b[38;5;28;01mfor\u001b[39;00m i, v \u001b[38;5;129;01min\u001b[39;00m \u001b[38;5;28menumerate\u001b[39m(series_gen):\n\u001b[0;32m    813\u001b[0m         \u001b[38;5;66;03m# ignore SettingWithCopy here in case the user mutates\u001b[39;00m\n\u001b[1;32m--> 814\u001b[0m         results[i] \u001b[38;5;241m=\u001b[39m \u001b[38;5;28;43mself\u001b[39;49m\u001b[38;5;241;43m.\u001b[39;49m\u001b[43mf\u001b[49m\u001b[43m(\u001b[49m\u001b[43mv\u001b[49m\u001b[43m)\u001b[49m\n\u001b[0;32m    815\u001b[0m         \u001b[38;5;28;01mif\u001b[39;00m \u001b[38;5;28misinstance\u001b[39m(results[i], ABCSeries):\n\u001b[0;32m    816\u001b[0m             \u001b[38;5;66;03m# If we have a view on v, we need to make a copy because\u001b[39;00m\n\u001b[0;32m    817\u001b[0m             \u001b[38;5;66;03m#  series_generator will swap out the underlying data\u001b[39;00m\n\u001b[0;32m    818\u001b[0m             results[i] \u001b[38;5;241m=\u001b[39m results[i]\u001b[38;5;241m.\u001b[39mcopy(deep\u001b[38;5;241m=\u001b[39m\u001b[38;5;28;01mFalse\u001b[39;00m)\n",
      "File \u001b[1;32mc:\\Users\\joaopedro\\AppData\\Local\\Programs\\Python\\Python38\\lib\\site-packages\\pandas\\core\\apply.py:133\u001b[0m, in \u001b[0;36mApply.__init__.<locals>.f\u001b[1;34m(x)\u001b[0m\n\u001b[0;32m    132\u001b[0m \u001b[38;5;28;01mdef\u001b[39;00m \u001b[38;5;21mf\u001b[39m(x):\n\u001b[1;32m--> 133\u001b[0m     \u001b[38;5;28;01mreturn\u001b[39;00m \u001b[43mfunc\u001b[49m\u001b[43m(\u001b[49m\u001b[43mx\u001b[49m\u001b[43m,\u001b[49m\u001b[43m \u001b[49m\u001b[38;5;241;43m*\u001b[39;49m\u001b[43margs\u001b[49m\u001b[43m,\u001b[49m\u001b[43m \u001b[49m\u001b[38;5;241;43m*\u001b[39;49m\u001b[38;5;241;43m*\u001b[39;49m\u001b[43mkwargs\u001b[49m\u001b[43m)\u001b[49m\n",
      "File \u001b[1;32mc:\\Users\\joaopedro\\AppData\\Local\\Programs\\Python\\Python38\\lib\\site-packages\\pandas\\core\\tools\\numeric.py:217\u001b[0m, in \u001b[0;36mto_numeric\u001b[1;34m(arg, errors, downcast, dtype_backend)\u001b[0m\n\u001b[0;32m    215\u001b[0m coerce_numeric \u001b[38;5;241m=\u001b[39m errors \u001b[38;5;129;01mnot\u001b[39;00m \u001b[38;5;129;01min\u001b[39;00m (\u001b[38;5;124m\"\u001b[39m\u001b[38;5;124mignore\u001b[39m\u001b[38;5;124m\"\u001b[39m, \u001b[38;5;124m\"\u001b[39m\u001b[38;5;124mraise\u001b[39m\u001b[38;5;124m\"\u001b[39m)\n\u001b[0;32m    216\u001b[0m \u001b[38;5;28;01mtry\u001b[39;00m:\n\u001b[1;32m--> 217\u001b[0m     values, new_mask \u001b[38;5;241m=\u001b[39m \u001b[43mlib\u001b[49m\u001b[38;5;241;43m.\u001b[39;49m\u001b[43mmaybe_convert_numeric\u001b[49m\u001b[43m(\u001b[49m\u001b[43m  \u001b[49m\u001b[38;5;66;43;03m# type: ignore[call-overload]  # noqa\u001b[39;49;00m\n\u001b[0;32m    218\u001b[0m \u001b[43m        \u001b[49m\u001b[43mvalues\u001b[49m\u001b[43m,\u001b[49m\n\u001b[0;32m    219\u001b[0m \u001b[43m        \u001b[49m\u001b[38;5;28;43mset\u001b[39;49m\u001b[43m(\u001b[49m\u001b[43m)\u001b[49m\u001b[43m,\u001b[49m\n\u001b[0;32m    220\u001b[0m \u001b[43m        \u001b[49m\u001b[43mcoerce_numeric\u001b[49m\u001b[38;5;241;43m=\u001b[39;49m\u001b[43mcoerce_numeric\u001b[49m\u001b[43m,\u001b[49m\n\u001b[0;32m    221\u001b[0m \u001b[43m        \u001b[49m\u001b[43mconvert_to_masked_nullable\u001b[49m\u001b[38;5;241;43m=\u001b[39;49m\u001b[43mdtype_backend\u001b[49m\u001b[43m \u001b[49m\u001b[38;5;129;43;01mis\u001b[39;49;00m\u001b[43m \u001b[49m\u001b[38;5;129;43;01mnot\u001b[39;49;00m\u001b[43m \u001b[49m\u001b[43mlib\u001b[49m\u001b[38;5;241;43m.\u001b[39;49m\u001b[43mno_default\u001b[49m\n\u001b[0;32m    222\u001b[0m \u001b[43m        \u001b[49m\u001b[38;5;129;43;01mor\u001b[39;49;00m\u001b[43m \u001b[49m\u001b[38;5;28;43misinstance\u001b[39;49m\u001b[43m(\u001b[49m\u001b[43mvalues_dtype\u001b[49m\u001b[43m,\u001b[49m\u001b[43m \u001b[49m\u001b[43mStringDtype\u001b[49m\u001b[43m)\u001b[49m\u001b[43m,\u001b[49m\n\u001b[0;32m    223\u001b[0m \u001b[43m    \u001b[49m\u001b[43m)\u001b[49m\n\u001b[0;32m    224\u001b[0m \u001b[38;5;28;01mexcept\u001b[39;00m (\u001b[38;5;167;01mValueError\u001b[39;00m, \u001b[38;5;167;01mTypeError\u001b[39;00m):\n\u001b[0;32m    225\u001b[0m     \u001b[38;5;28;01mif\u001b[39;00m errors \u001b[38;5;241m==\u001b[39m \u001b[38;5;124m\"\u001b[39m\u001b[38;5;124mraise\u001b[39m\u001b[38;5;124m\"\u001b[39m:\n",
      "File \u001b[1;32mc:\\Users\\joaopedro\\AppData\\Local\\Programs\\Python\\Python38\\lib\\site-packages\\pandas\\_libs\\lib.pyx:2322\u001b[0m, in \u001b[0;36mpandas._libs.lib.maybe_convert_numeric\u001b[1;34m()\u001b[0m\n",
      "\u001b[1;31mValueError\u001b[0m: Unable to parse string \"a\" at position 0"
     ]
    }
   ],
   "source": []
  },
  {
   "cell_type": "code",
   "execution_count": 10,
   "metadata": {},
   "outputs": [
    {
     "name": "stdout",
     "output_type": "stream",
     "text": [
      "<class 'pandas.core.frame.DataFrame'>\n",
      "RangeIndex: 3 entries, 0 to 2\n",
      "Data columns (total 4 columns):\n",
      " #   Column  Non-Null Count  Dtype \n",
      "---  ------  --------------  ----- \n",
      " 0   col1    3 non-null      object\n",
      " 1   col2    3 non-null      int64 \n",
      " 2   col3    3 non-null      int64 \n",
      " 3   col4    3 non-null      object\n",
      "dtypes: int64(2), object(2)\n",
      "memory usage: 224.0+ bytes\n"
     ]
    }
   ],
   "source": [
    "df.info()"
   ]
  },
  {
   "cell_type": "code",
   "execution_count": 9,
   "metadata": {},
   "outputs": [
    {
     "name": "stdout",
     "output_type": "stream",
     "text": [
      "0: <class 'int'>\n",
      "1: <class 'str'>\n",
      "4: <class 'int'>\n",
      "7: <class 'int'>\n",
      "a: <class 'str'>\n",
      "1: <class 'int'>\n",
      "2: <class 'str'>\n",
      "5: <class 'int'>\n",
      "8: <class 'int'>\n",
      "b: <class 'str'>\n",
      "2: <class 'int'>\n",
      "3: <class 'str'>\n",
      "6: <class 'int'>\n",
      "9: <class 'int'>\n",
      "c: <class 'str'>\n"
     ]
    }
   ],
   "source": [
    "for row in df.itertuples():\n",
    "    for r in row:\n",
    "        print(f'{r}: {type(r)}')"
   ]
  },
  {
   "cell_type": "code",
   "execution_count": 5,
   "metadata": {},
   "outputs": [],
   "source": [
    "conn = psycopg2.connect(dbname='postgres', user='postgres', password='1673', host='localhost', port='5432')\n",
    "cur = conn.cursor()"
   ]
  },
  {
   "cell_type": "code",
   "execution_count": null,
   "metadata": {},
   "outputs": [],
   "source": [
    "# query = f\"create table administrators (id_adm int primary key, nome_adm varchar, company_id varchar);\"\n",
    "query = f\"insert into administrators (id_adm, nome_adm, company_id) values (1, 'BR', 'abc');\"\n",
    "cur.execute(query)\n",
    "conn.commit()"
   ]
  },
  {
   "cell_type": "code",
   "execution_count": 16,
   "metadata": {},
   "outputs": [],
   "source": [
    "company_id = 'abc'"
   ]
  },
  {
   "cell_type": "code",
   "execution_count": 36,
   "metadata": {},
   "outputs": [],
   "source": [
    "cur.execute(f\"SELECT * FROM sales WHERE company_id = '{company_id}';\")\n",
    "sales_list = list(cur.fetchall())\n",
    "table_sales_columns = [desc[0] for desc in cur.description]\n",
    "df_sales = pd.DataFrame(sales_list, columns=table_sales_columns)\n",
    "df_sales.drop(columns=['company_id'], inplace=True)\n",
    "df_sales['data_venda'] = pd.to_datetime(df_sales['data_venda'], format='%Y-%m-%d')\n",
    "df_sales['data_venda'] = df_sales['data_venda'].map(lambda x: x.date())\n",
    "df_sales['valor_venda'] = df_sales['valor_venda'].astype(float)\n",
    "cur.execute(f\"SELECT * FROM prod_caract WHERE company_id = '{company_id}';\")\n",
    "prod_caract_list = list(cur.fetchall())\n",
    "table_prod_caract_columns = [desc[0] for desc in cur.description]\n",
    "df_prod_caract = pd.DataFrame(prod_caract_list, columns=table_prod_caract_columns)\n",
    "df_prod_caract.drop(columns=['company_id'], inplace=True)"
   ]
  },
  {
   "cell_type": "code",
   "execution_count": 37,
   "metadata": {},
   "outputs": [
    {
     "data": {
      "text/html": [
       "<div>\n",
       "<style scoped>\n",
       "    .dataframe tbody tr th:only-of-type {\n",
       "        vertical-align: middle;\n",
       "    }\n",
       "\n",
       "    .dataframe tbody tr th {\n",
       "        vertical-align: top;\n",
       "    }\n",
       "\n",
       "    .dataframe thead th {\n",
       "        text-align: right;\n",
       "    }\n",
       "</style>\n",
       "<table border=\"1\" class=\"dataframe\">\n",
       "  <thead>\n",
       "    <tr style=\"text-align: right;\">\n",
       "      <th></th>\n",
       "      <th>id_venda</th>\n",
       "      <th>id_prod_caract</th>\n",
       "      <th>nome_produto</th>\n",
       "      <th>id_funcionario</th>\n",
       "      <th>nome_funcionario</th>\n",
       "      <th>projeto</th>\n",
       "      <th>nome_cliente</th>\n",
       "      <th>data_venda</th>\n",
       "      <th>data_venda_abv</th>\n",
       "      <th>data_primeira_parcela</th>\n",
       "      <th>data_ultima_parcela</th>\n",
       "      <th>valor_venda</th>\n",
       "      <th>taxa_comissao</th>\n",
       "      <th>valor_comissao</th>\n",
       "      <th>valor_liquido</th>\n",
       "      <th>qtd_parcelas</th>\n",
       "      <th>taxa_parcelas</th>\n",
       "    </tr>\n",
       "  </thead>\n",
       "  <tbody>\n",
       "    <tr>\n",
       "      <th>0</th>\n",
       "      <td>1</td>\n",
       "      <td>2</td>\n",
       "      <td>BR - Im/Auto</td>\n",
       "      <td>1</td>\n",
       "      <td>Andy</td>\n",
       "      <td>Network</td>\n",
       "      <td>a</td>\n",
       "      <td>2024-02-01</td>\n",
       "      <td>2024/02</td>\n",
       "      <td>2024-03-10</td>\n",
       "      <td>2024-08-10</td>\n",
       "      <td>50000.0</td>\n",
       "      <td>1.5</td>\n",
       "      <td>750.0</td>\n",
       "      <td>49250.0</td>\n",
       "      <td>6</td>\n",
       "      <td>0.5 - 0.0 - 0.0 - 0.5 - 0.0 - 0.5</td>\n",
       "    </tr>\n",
       "    <tr>\n",
       "      <th>1</th>\n",
       "      <td>2</td>\n",
       "      <td>4</td>\n",
       "      <td>BR - Im/Auto</td>\n",
       "      <td>2</td>\n",
       "      <td>Beto Andrade</td>\n",
       "      <td>Especial 2</td>\n",
       "      <td>a</td>\n",
       "      <td>2024-01-09</td>\n",
       "      <td>2024/01</td>\n",
       "      <td>2024-02-10</td>\n",
       "      <td>2024-07-10</td>\n",
       "      <td>50000.0</td>\n",
       "      <td>2.0</td>\n",
       "      <td>1000.0</td>\n",
       "      <td>49000.0</td>\n",
       "      <td>6</td>\n",
       "      <td>0.6 - 0.0 - 0.0 - 0.6 - 0.0 - 0.8</td>\n",
       "    </tr>\n",
       "    <tr>\n",
       "      <th>2</th>\n",
       "      <td>3</td>\n",
       "      <td>1</td>\n",
       "      <td>BR - Im/Auto</td>\n",
       "      <td>3</td>\n",
       "      <td>Brenda</td>\n",
       "      <td>Externo</td>\n",
       "      <td>a</td>\n",
       "      <td>2023-12-01</td>\n",
       "      <td>2023/12</td>\n",
       "      <td>2024-01-10</td>\n",
       "      <td>2024-04-10</td>\n",
       "      <td>50000.0</td>\n",
       "      <td>0.7</td>\n",
       "      <td>350.0</td>\n",
       "      <td>49650.0</td>\n",
       "      <td>4</td>\n",
       "      <td>0.4 - 0.0 - 0.0 - 0.3</td>\n",
       "    </tr>\n",
       "  </tbody>\n",
       "</table>\n",
       "</div>"
      ],
      "text/plain": [
       "   id_venda  id_prod_caract  nome_produto  id_funcionario nome_funcionario  \\\n",
       "0         1               2  BR - Im/Auto               1             Andy   \n",
       "1         2               4  BR - Im/Auto               2     Beto Andrade   \n",
       "2         3               1  BR - Im/Auto               3           Brenda   \n",
       "\n",
       "      projeto nome_cliente  data_venda data_venda_abv data_primeira_parcela  \\\n",
       "0     Network            a  2024-02-01        2024/02            2024-03-10   \n",
       "1  Especial 2            a  2024-01-09        2024/01            2024-02-10   \n",
       "2     Externo            a  2023-12-01        2023/12            2024-01-10   \n",
       "\n",
       "  data_ultima_parcela  valor_venda taxa_comissao valor_comissao valor_liquido  \\\n",
       "0          2024-08-10      50000.0           1.5          750.0       49250.0   \n",
       "1          2024-07-10      50000.0           2.0         1000.0       49000.0   \n",
       "2          2024-04-10      50000.0           0.7          350.0       49650.0   \n",
       "\n",
       "   qtd_parcelas                      taxa_parcelas  \n",
       "0             6  0.5 - 0.0 - 0.0 - 0.5 - 0.0 - 0.5  \n",
       "1             6  0.6 - 0.0 - 0.0 - 0.6 - 0.0 - 0.8  \n",
       "2             4              0.4 - 0.0 - 0.0 - 0.3  "
      ]
     },
     "execution_count": 37,
     "metadata": {},
     "output_type": "execute_result"
    }
   ],
   "source": [
    "df_sales_upd = pd.merge(df_sales, df_prod_caract[['id_prod_caract', 'qtd_parcelas', 'taxa_parcelas']])\n",
    "df_sales_upd"
   ]
  },
  {
   "cell_type": "code",
   "execution_count": 71,
   "metadata": {},
   "outputs": [
    {
     "data": {
      "text/plain": [
       "-5.733333333333333"
      ]
     },
     "execution_count": 71,
     "metadata": {},
     "output_type": "execute_result"
    }
   ],
   "source": [
    "(dt(2024,2,20).date() - dt(2024,8,10).date()).days/30"
   ]
  },
  {
   "cell_type": "code",
   "execution_count": 5,
   "metadata": {},
   "outputs": [],
   "source": [
    "cur.execute(f\"SELECT s.id_funcionario, s.nome_funcionario, s.nome_produto, s.projeto, s.data_venda, s.data_primeira_parcela, s.data_ultima_parcela, s.valor_venda, s.valor_comissao, \\\n",
    "                pc.qtd_parcelas, pc.taxa_parcelas FROM sales AS s LEFT JOIN prod_caract AS pc on s.id_prod_caract = pc.id_prod_caract;\")\n",
    "prod_sales_list = list(cur.fetchall())\n",
    "table_prod_sales_columns= [desc[0] for desc in cur.description]\n",
    "df_prod_sales = pd.DataFrame(prod_sales_list, columns=table_prod_sales_columns)"
   ]
  },
  {
   "cell_type": "code",
   "execution_count": 6,
   "metadata": {},
   "outputs": [
    {
     "data": {
      "text/html": [
       "<div>\n",
       "<style scoped>\n",
       "    .dataframe tbody tr th:only-of-type {\n",
       "        vertical-align: middle;\n",
       "    }\n",
       "\n",
       "    .dataframe tbody tr th {\n",
       "        vertical-align: top;\n",
       "    }\n",
       "\n",
       "    .dataframe thead th {\n",
       "        text-align: right;\n",
       "    }\n",
       "</style>\n",
       "<table border=\"1\" class=\"dataframe\">\n",
       "  <thead>\n",
       "    <tr style=\"text-align: right;\">\n",
       "      <th></th>\n",
       "      <th>id_funcionario</th>\n",
       "      <th>nome_funcionario</th>\n",
       "      <th>nome_produto</th>\n",
       "      <th>projeto</th>\n",
       "      <th>data_venda</th>\n",
       "      <th>data_primeira_parcela</th>\n",
       "      <th>data_ultima_parcela</th>\n",
       "      <th>valor_venda</th>\n",
       "      <th>valor_comissao</th>\n",
       "      <th>qtd_parcelas</th>\n",
       "      <th>taxa_parcelas</th>\n",
       "    </tr>\n",
       "  </thead>\n",
       "  <tbody>\n",
       "  </tbody>\n",
       "</table>\n",
       "</div>"
      ],
      "text/plain": [
       "Empty DataFrame\n",
       "Columns: [id_funcionario, nome_funcionario, nome_produto, projeto, data_venda, data_primeira_parcela, data_ultima_parcela, valor_venda, valor_comissao, qtd_parcelas, taxa_parcelas]\n",
       "Index: []"
      ]
     },
     "execution_count": 6,
     "metadata": {},
     "output_type": "execute_result"
    }
   ],
   "source": [
    "df_prod_sales"
   ]
  },
  {
   "cell_type": "code",
   "execution_count": 61,
   "metadata": {},
   "outputs": [],
   "source": [
    "from datetime import timedelta, datetime as dt\n",
    "from dateutil.relativedelta import relativedelta"
   ]
  },
  {
   "cell_type": "code",
   "execution_count": 8,
   "metadata": {},
   "outputs": [
    {
     "data": {
      "text/plain": [
       "datetime.datetime(2023, 11, 30, 19, 52, 25, 644139)"
      ]
     },
     "execution_count": 8,
     "metadata": {},
     "output_type": "execute_result"
    }
   ],
   "source": [
    "data = dt.now() + relativedelta(months=-2)\n",
    "data"
   ]
  },
  {
   "cell_type": "code",
   "execution_count": 13,
   "metadata": {},
   "outputs": [
    {
     "data": {
      "text/plain": [
       "dict_values(['d', 4])"
      ]
     },
     "execution_count": 13,
     "metadata": {},
     "output_type": "execute_result"
    }
   ],
   "source": [
    "dic.values()"
   ]
  },
  {
   "cell_type": "code",
   "execution_count": 14,
   "metadata": {},
   "outputs": [
    {
     "data": {
      "text/html": [
       "<div>\n",
       "<style scoped>\n",
       "    .dataframe tbody tr th:only-of-type {\n",
       "        vertical-align: middle;\n",
       "    }\n",
       "\n",
       "    .dataframe tbody tr th {\n",
       "        vertical-align: top;\n",
       "    }\n",
       "\n",
       "    .dataframe thead th {\n",
       "        text-align: right;\n",
       "    }\n",
       "</style>\n",
       "<table border=\"1\" class=\"dataframe\">\n",
       "  <thead>\n",
       "    <tr style=\"text-align: right;\">\n",
       "      <th></th>\n",
       "      <th>col1</th>\n",
       "      <th>col2</th>\n",
       "    </tr>\n",
       "  </thead>\n",
       "  <tbody>\n",
       "    <tr>\n",
       "      <th>0</th>\n",
       "      <td>1</td>\n",
       "      <td>a</td>\n",
       "    </tr>\n",
       "    <tr>\n",
       "      <th>1</th>\n",
       "      <td>2</td>\n",
       "      <td>b</td>\n",
       "    </tr>\n",
       "    <tr>\n",
       "      <th>2</th>\n",
       "      <td>3</td>\n",
       "      <td>c</td>\n",
       "    </tr>\n",
       "    <tr>\n",
       "      <th>3</th>\n",
       "      <td>4</td>\n",
       "      <td>d</td>\n",
       "    </tr>\n",
       "  </tbody>\n",
       "</table>\n",
       "</div>"
      ],
      "text/plain": [
       "   col1 col2\n",
       "0     1    a\n",
       "1     2    b\n",
       "2     3    c\n",
       "3     4    d"
      ]
     },
     "execution_count": 14,
     "metadata": {},
     "output_type": "execute_result"
    }
   ],
   "source": [
    "df = pd.DataFrame({'col1':[1,2,3], 'col2': ['a','b','c']})\n",
    "dic = {'col2':'d', 'col1':4}\n",
    "pd.concat([df, pd.DataFrame([dic])], ignore_index=True)"
   ]
  },
  {
   "cell_type": "code",
   "execution_count": 1,
   "metadata": {},
   "outputs": [
    {
     "ename": "ValueError",
     "evalue": "max() arg is an empty sequence",
     "output_type": "error",
     "traceback": [
      "\u001b[1;31m---------------------------------------------------------------------------\u001b[0m",
      "\u001b[1;31mValueError\u001b[0m                                Traceback (most recent call last)",
      "Cell \u001b[1;32mIn[1], line 2\u001b[0m\n\u001b[0;32m      1\u001b[0m lista \u001b[38;5;241m=\u001b[39m []\n\u001b[1;32m----> 2\u001b[0m \u001b[38;5;28;43mmax\u001b[39;49m\u001b[43m(\u001b[49m\u001b[43mlista\u001b[49m\u001b[43m)\u001b[49m\n",
      "\u001b[1;31mValueError\u001b[0m: max() arg is an empty sequence"
     ]
    }
   ],
   "source": [
    "lista = []\n",
    "max(lista)"
   ]
  },
  {
   "cell_type": "code",
   "execution_count": 25,
   "metadata": {},
   "outputs": [
    {
     "name": "stderr",
     "output_type": "stream",
     "text": [
      "C:\\Users\\joaopedro\\AppData\\Local\\Temp\\ipykernel_6664\\3039820842.py:2: SettingWithCopyWarning: \n",
      "A value is trying to be set on a copy of a slice from a DataFrame\n",
      "\n",
      "See the caveats in the documentation: https://pandas.pydata.org/pandas-docs/stable/user_guide/indexing.html#returning-a-view-versus-a-copy\n",
      "  df.iloc[2]['col2'] = 'a'\n"
     ]
    },
    {
     "data": {
      "text/html": [
       "<div>\n",
       "<style scoped>\n",
       "    .dataframe tbody tr th:only-of-type {\n",
       "        vertical-align: middle;\n",
       "    }\n",
       "\n",
       "    .dataframe tbody tr th {\n",
       "        vertical-align: top;\n",
       "    }\n",
       "\n",
       "    .dataframe thead th {\n",
       "        text-align: right;\n",
       "    }\n",
       "</style>\n",
       "<table border=\"1\" class=\"dataframe\">\n",
       "  <thead>\n",
       "    <tr style=\"text-align: right;\">\n",
       "      <th></th>\n",
       "      <th>col1</th>\n",
       "      <th>col2</th>\n",
       "    </tr>\n",
       "  </thead>\n",
       "  <tbody>\n",
       "    <tr>\n",
       "      <th>0</th>\n",
       "      <td>1</td>\n",
       "      <td>None</td>\n",
       "    </tr>\n",
       "    <tr>\n",
       "      <th>1</th>\n",
       "      <td>2</td>\n",
       "      <td>None</td>\n",
       "    </tr>\n",
       "    <tr>\n",
       "      <th>2</th>\n",
       "      <td>3</td>\n",
       "      <td>None</td>\n",
       "    </tr>\n",
       "  </tbody>\n",
       "</table>\n",
       "</div>"
      ],
      "text/plain": [
       "   col1  col2\n",
       "0     1  None\n",
       "1     2  None\n",
       "2     3  None"
      ]
     },
     "execution_count": 25,
     "metadata": {},
     "output_type": "execute_result"
    }
   ],
   "source": [
    "df = pd.DataFrame({'col1': [1,2,3], 'col2': None})\n",
    "df.iloc[2]['col2'] = 'a'\n",
    "df\n"
   ]
  }
 ],
 "metadata": {
  "kernelspec": {
   "display_name": "Python 3",
   "language": "python",
   "name": "python3"
  },
  "language_info": {
   "codemirror_mode": {
    "name": "ipython",
    "version": 3
   },
   "file_extension": ".py",
   "mimetype": "text/x-python",
   "name": "python",
   "nbconvert_exporter": "python",
   "pygments_lexer": "ipython3",
   "version": "3.8.10"
  }
 },
 "nbformat": 4,
 "nbformat_minor": 2
}
