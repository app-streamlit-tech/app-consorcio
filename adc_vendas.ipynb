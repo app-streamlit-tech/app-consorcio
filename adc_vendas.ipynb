{
 "cells": [
  {
   "cell_type": "code",
   "execution_count": 1,
   "metadata": {},
   "outputs": [],
   "source": [
    "import psycopg2\n",
    "import pandas as pd\n",
    "from dateutil.relativedelta import relativedelta\n",
    "from datetime import datetime as dt"
   ]
  },
  {
   "cell_type": "code",
   "execution_count": 2,
   "metadata": {},
   "outputs": [],
   "source": [
    "company_id = 'contato_4b42bcf5-6cb5-47d7-8a4e-6c14b30f7dac'"
   ]
  },
  {
   "cell_type": "code",
   "execution_count": 13,
   "metadata": {},
   "outputs": [],
   "source": [
    "df_sales = pd.read_excel(r\"C:\\Users\\joaopedro\\OneDrive - NAGRO CREDITO AGRO LTDA\\Área de Trabalho\\dados_app_contato (version 2).xlsx\", sheet_name='Vendas (2)')"
   ]
  },
  {
   "cell_type": "code",
   "execution_count": 4,
   "metadata": {},
   "outputs": [],
   "source": [
    "conn = psycopg2.connect(dbname='postgres', user='postgres', password='1673', host='localhost', port='5432')\n",
    "cur = conn.cursor()"
   ]
  },
  {
   "cell_type": "code",
   "execution_count": 14,
   "metadata": {},
   "outputs": [],
   "source": [
    "cur.execute(\"select * from employees;\")\n",
    "name_columns = [x[0] for x in cur.description]\n",
    "df_emp = pd.DataFrame(cur.fetchall(), columns=name_columns)"
   ]
  },
  {
   "cell_type": "markdown",
   "metadata": {},
   "source": [
    "### id_funcionario, nome_funcionario e projeto"
   ]
  },
  {
   "cell_type": "code",
   "execution_count": 15,
   "metadata": {},
   "outputs": [],
   "source": [
    "df_sales['nome_funcionario'].fillna('', inplace=True)"
   ]
  },
  {
   "cell_type": "code",
   "execution_count": 16,
   "metadata": {},
   "outputs": [],
   "source": [
    "df_sales['nome_funcionario'] = df_sales['nome_funcionario'].map(lambda x: x.strip())"
   ]
  },
  {
   "cell_type": "code",
   "execution_count": 17,
   "metadata": {},
   "outputs": [],
   "source": [
    "df_sales.loc[df_sales['nome_funcionario'] == 'ROBERTO BUSSOLA', 'id_funcionario'] = 2\n",
    "df_sales.loc[df_sales['nome_funcionario'] == 'ANDYARA GUSMAN', 'id_funcionario'] = 1\n",
    "df_sales.loc[df_sales['nome_funcionario'] == 'DANIEL BUSSOLA', 'id_funcionario'] = 5\n",
    "df_sales.loc[df_sales['nome_funcionario'] == 'Roberto T', 'id_funcionario'] = 48\n",
    "df_sales.loc[df_sales['nome_funcionario'] == 'ROBERTO ANDRADE', 'id_funcionario'] = 3\n",
    "df_sales.loc[df_sales['nome_funcionario'] == 'FLAVIO OLIVEIRA', 'id_funcionario'] = 17\n",
    "df_sales.loc[df_sales['nome_funcionario'] == 'Carlos', 'id_funcionario'] = 36\n",
    "df_sales.loc[df_sales['nome_funcionario'] == 'Tabata', 'id_funcionario'] = 16\n",
    "df_sales.loc[df_sales['nome_funcionario'] == 'Isis', 'id_funcionario'] = 9\n",
    "df_sales.loc[df_sales['nome_funcionario'] == 'REGIANE BIGON', 'id_funcionario'] = 11\n",
    "df_sales.loc[df_sales['nome_funcionario'] == 'Eduardo/Thaís', 'id_funcionario'] = 21\n",
    "df_sales.loc[df_sales['nome_funcionario'] == 'JOÃO NETO', 'id_funcionario'] = 34\n",
    "df_sales.loc[df_sales['nome_funcionario'] == 'PEDRO DALLA', 'id_funcionario'] = 32\n",
    "df_sales.loc[df_sales['nome_funcionario'] == 'YAGO GOBBE', 'id_funcionario'] = 33\n",
    "df_sales.loc[df_sales['nome_funcionario'] == 'Gabrielle', 'id_funcionario'] = 38\n",
    "df_sales.loc[df_sales['nome_funcionario'] == 'DANIELA FARIA', 'id_funcionario'] = 35\n",
    "df_sales.loc[df_sales['nome_funcionario'] == 'Rogério', 'id_funcionario'] = 49\n",
    "df_sales.loc[df_sales['nome_funcionario'] == 'Renato', 'id_funcionario'] = 47\n",
    "df_sales.loc[df_sales['nome_funcionario'] == 'Giovani C.', 'id_funcionario'] = 39\n",
    "df_sales.loc[df_sales['nome_funcionario'] == 'LUCIANO HONORIO', 'id_funcionario'] = 44\n",
    "df_sales.loc[df_sales['nome_funcionario'] == 'Marcos', 'id_funcionario'] = 45\n",
    "df_sales.loc[df_sales['nome_funcionario'] == 'EVANDRO MOURA', 'id_funcionario'] = 37\n",
    "df_sales.loc[df_sales['nome_funcionario'] == 'MERCIA', 'id_funcionario'] = 46\n",
    "df_sales.loc[df_sales['nome_funcionario'] == 'LEONARDO TIROLI', 'id_funcionario'] = 42\n",
    "df_sales.loc[df_sales['nome_funcionario'] == 'KAREN GONÇALVES', 'id_funcionario'] = 41\n",
    "df_sales.loc[df_sales['nome_funcionario'] == 'Mercia', 'id_funcionario'] = 46\n",
    "df_sales.loc[df_sales['nome_funcionario'] == 'Gustavo', 'id_funcionario'] = 40\n",
    "df_sales.loc[df_sales['nome_funcionario'] == 'TORO', 'id_funcionario'] = 50\n",
    "df_sales.loc[df_sales['nome_funcionario'] == 'Camila', 'id_funcionario'] = 13\n",
    "df_sales.loc[df_sales['nome_funcionario'] == 'Flávio Martorelli', 'id_funcionario'] = 8\n",
    "df_sales.loc[df_sales['nome_funcionario'] == 'LUCAS LOPES', 'id_funcionario'] = 43\n",
    "df_sales.loc[df_sales['nome_funcionario'] == 'FELIPE (LUDMILA)', 'id_funcionario'] = 51\n",
    "df_sales.loc[df_sales['nome_funcionario'] == 'EDUARDO DK', 'id_funcionario'] = 52\n",
    "df_sales.loc[df_sales['nome_funcionario'] == 'CLARA BUSSOLA', 'id_funcionario'] = 53\n",
    "df_sales.loc[df_sales['nome_funcionario'] == 'RINALDO', 'id_funcionario'] = 54"
   ]
  },
  {
   "cell_type": "code",
   "execution_count": 18,
   "metadata": {},
   "outputs": [],
   "source": [
    "list_nome_funcionario = []\n",
    "list_projeto = []\n",
    "for row in df_sales.itertuples():\n",
    "    if pd.isna(row.id_funcionario) == False:\n",
    "        nome_funcionario = df_emp.loc[df_emp['id_funcionario'] == row.id_funcionario, 'nome_funcionario'].values[0]\n",
    "        projeto = df_emp.loc[df_emp['id_funcionario'] == row.id_funcionario, 'projeto'].values[0]\n",
    "        list_nome_funcionario.append(nome_funcionario)\n",
    "        list_projeto.append(projeto)\n",
    "    else:\n",
    "        list_nome_funcionario.append(None)\n",
    "        list_projeto.append(None)\n",
    "df_sales['nome_funcionario'] = list_nome_funcionario\n",
    "df_sales['projeto'] = list_projeto"
   ]
  },
  {
   "cell_type": "code",
   "execution_count": 23,
   "metadata": {},
   "outputs": [],
   "source": [
    "df_sales.to_excel(r\"C:\\Users\\joaopedro\\Downloads\\df_sales.xlsx\", index=False)"
   ]
  },
  {
   "cell_type": "code",
   "execution_count": 30,
   "metadata": {},
   "outputs": [],
   "source": [
    "df_sales.drop(columns='nome_funcionario2', inplace=True)"
   ]
  },
  {
   "cell_type": "markdown",
   "metadata": {},
   "source": [
    "### nome_produto e nome_adm"
   ]
  },
  {
   "cell_type": "code",
   "execution_count": 21,
   "metadata": {},
   "outputs": [],
   "source": [
    "df_sales['nome_produto'] = df_sales['nome_produto'].map(lambda x: x.strip())"
   ]
  },
  {
   "cell_type": "code",
   "execution_count": 22,
   "metadata": {},
   "outputs": [],
   "source": [
    "cur.execute(\"select nome_adm, nome_produto from products;\")\n",
    "df_prod = pd.DataFrame(cur.fetchall(), columns=['nome_adm','nome_produto'])"
   ]
  },
  {
   "cell_type": "code",
   "execution_count": 23,
   "metadata": {},
   "outputs": [],
   "source": [
    "df_sales = pd.merge(df_sales, df_prod, on='nome_produto', how='left')"
   ]
  },
  {
   "cell_type": "markdown",
   "metadata": {},
   "source": [
    "### data_venda_abv"
   ]
  },
  {
   "cell_type": "code",
   "execution_count": 25,
   "metadata": {},
   "outputs": [],
   "source": [
    "df_sales['data_venda'] = pd.to_datetime(df_sales['data_venda'])\n",
    "df_sales['data_venda_abv'] = df_sales.data_venda.map(lambda x: f'{x.year}/0{x.month}' if len(str(x.month)) == 1 else f'{x.year}/{x.month}')"
   ]
  },
  {
   "cell_type": "markdown",
   "metadata": {},
   "source": [
    "### prod_caract"
   ]
  },
  {
   "cell_type": "code",
   "execution_count": 26,
   "metadata": {},
   "outputs": [],
   "source": [
    "cur.execute('select id_prod_caract, nome_produto, projeto, qtd_parcelas, taxa_comissao from prod_caract;')\n",
    "df_prod_caract = pd.DataFrame(cur.fetchall(), columns=['id_prod_caract','nome_produto','projeto','qtd_parcelas','taxa_comissao'])"
   ]
  },
  {
   "cell_type": "code",
   "execution_count": 27,
   "metadata": {},
   "outputs": [],
   "source": [
    "df_sales = pd.merge(df_sales, df_prod_caract, on=['nome_produto','projeto'], how='left')"
   ]
  },
  {
   "cell_type": "code",
   "execution_count": 28,
   "metadata": {},
   "outputs": [],
   "source": [
    "list_data_primeira_parcela = []\n",
    "list_data_ultima_parcela = []\n",
    "list_valor_comissao = []\n",
    "for row in df_sales.itertuples():\n",
    "    if pd.isna(row.qtd_parcelas) == False:\n",
    "        data = row.data_venda\n",
    "        taxa_comissao = float(row.taxa_comissao)\n",
    "        valor_venda = float(row.valor_venda)\n",
    "\n",
    "        data_primeira_parcela = data + relativedelta(months=1)\n",
    "        data_primeira_parcela_upd = dt(data_primeira_parcela.year, data_primeira_parcela.month, 10).date()\n",
    "\n",
    "        data_ultima_parcela = data + relativedelta(months=(int(row.qtd_parcelas)))\n",
    "        data_ultima_parcela_upd = dt(data_ultima_parcela.year, data_ultima_parcela.month, 10).date()\n",
    "        list_data_primeira_parcela.append(data_primeira_parcela_upd)\n",
    "        list_data_ultima_parcela.append(data_ultima_parcela_upd)\n",
    "\n",
    "        valor_comissao = (taxa_comissao/100) * valor_venda\n",
    "        list_valor_comissao.append(valor_comissao)\n",
    "    else:\n",
    "        list_data_primeira_parcela.append(None)\n",
    "        list_data_ultima_parcela.append(None)\n",
    "        list_valor_comissao.append(None)\n",
    "\n",
    "df_sales['data_primeira_parcela'] = list_data_primeira_parcela\n",
    "df_sales['data_ultima_parcela'] = list_data_ultima_parcela\n",
    "df_sales['valor_comissao'] = list_valor_comissao"
   ]
  },
  {
   "cell_type": "markdown",
   "metadata": {},
   "source": [
    "### income"
   ]
  },
  {
   "cell_type": "code",
   "execution_count": 30,
   "metadata": {},
   "outputs": [],
   "source": [
    "cur.execute(\"select id_income, nome_produto, taxa_comissao from income;\")\n",
    "df_income = pd.DataFrame(cur.fetchall(), columns=['id_income','nome_produto','taxa_receita'])"
   ]
  },
  {
   "cell_type": "code",
   "execution_count": 31,
   "metadata": {},
   "outputs": [],
   "source": [
    "df_sales = pd.merge(df_sales, df_income, on='nome_produto', how='left')"
   ]
  },
  {
   "cell_type": "code",
   "execution_count": 32,
   "metadata": {},
   "outputs": [],
   "source": [
    "list_receita = []\n",
    "for row in df_sales.itertuples():\n",
    "    taxa_receita = float(row.taxa_receita)\n",
    "    valor_venda = float(row.valor_venda)\n",
    "    valor_receita = (taxa_receita/100) * valor_venda\n",
    "    list_receita.append(valor_receita)\n",
    "df_sales['valor_receita'] = list_receita"
   ]
  },
  {
   "cell_type": "code",
   "execution_count": 65,
   "metadata": {},
   "outputs": [],
   "source": [
    "df_sales.to_excel(r\"C:\\Users\\joaopedro\\Downloads\\df_sales.xlsx\", index=False)"
   ]
  },
  {
   "cell_type": "markdown",
   "metadata": {},
   "source": [
    "# Inserir no banco"
   ]
  },
  {
   "cell_type": "code",
   "execution_count": 34,
   "metadata": {},
   "outputs": [],
   "source": [
    "conn = psycopg2.connect(dbname='postgres', user='postgres', password='1673', host='localhost', port='5432')\n",
    "cur = conn.cursor()"
   ]
  },
  {
   "cell_type": "code",
   "execution_count": 80,
   "metadata": {},
   "outputs": [],
   "source": [
    "df_sales = pd.read_excel(r\"C:\\Users\\joaopedro\\Downloads\\df_sales.xlsx\")"
   ]
  },
  {
   "cell_type": "code",
   "execution_count": 35,
   "metadata": {},
   "outputs": [],
   "source": [
    "df_sales['company_id'] = company_id"
   ]
  },
  {
   "cell_type": "code",
   "execution_count": 36,
   "metadata": {},
   "outputs": [],
   "source": [
    "df_sales['nome_cliente'] = df_sales['nome_cliente'].map(lambda x: x.replace(\"'\",\"\"))"
   ]
  },
  {
   "cell_type": "code",
   "execution_count": 37,
   "metadata": {},
   "outputs": [],
   "source": [
    "df_sales['id_venda'].fillna('0', inplace=True)\n",
    "df_sales['cota'].fillna(0, inplace=True)\n",
    "df_sales['nome_funcionario'].fillna('Não registrado', inplace=True)\n",
    "df_sales['id_funcionario'].fillna(0, inplace=True)\n",
    "df_sales['projeto'].fillna(0, inplace=True)\n",
    "df_sales['id_prod_caract'].fillna(0, inplace=True)\n",
    "df_sales['qtd_parcelas'].fillna(0, inplace=True)\n",
    "df_sales['taxa_comissao'].fillna(0, inplace=True)\n",
    "df_sales['data_primeira_parcela'].fillna(dt.now(), inplace=True)\n",
    "df_sales['data_ultima_parcela'].fillna(dt.now(), inplace=True)\n",
    "df_sales['valor_comissao'].fillna(0, inplace=True)"
   ]
  },
  {
   "cell_type": "code",
   "execution_count": 38,
   "metadata": {},
   "outputs": [],
   "source": [
    "for row in df_sales.itertuples():\n",
    "    query = f\"INSERT INTO sales (data_venda,id_venda,nome_cliente,valor_venda,grupo,cota,nome_produto,nome_funcionario,id_funcionario,nome_adm,data_venda_abv,projeto,id_prod_caract, \\\n",
    "    taxa_comissao,data_primeira_parcela,data_ultima_parcela,valor_comissao,id_income,taxa_receita,valor_receita) VALUES('{row.data_venda}','{row.id_venda}','{row.nome_cliente}',{row.valor_venda},'{row.grupo}',\\\n",
    "    {row.cota},'{row.nome_produto}','{row.nome_funcionario}',{row.id_funcionario},'{row.nome_adm}','{row.data_venda_abv}','{row.projeto}',{row.id_prod_caract},{row.taxa_comissao},'{row.data_primeira_parcela}',\\\n",
    "    '{row.data_ultima_parcela}',{row.valor_comissao},{row.id_income},{row.taxa_receita},{row.valor_receita});\"\n",
    "    cur.execute(query)\n",
    "conn.commit()"
   ]
  },
  {
   "cell_type": "code",
   "execution_count": 39,
   "metadata": {},
   "outputs": [
    {
     "data": {
      "text/html": [
       "<div>\n",
       "<style scoped>\n",
       "    .dataframe tbody tr th:only-of-type {\n",
       "        vertical-align: middle;\n",
       "    }\n",
       "\n",
       "    .dataframe tbody tr th {\n",
       "        vertical-align: top;\n",
       "    }\n",
       "\n",
       "    .dataframe thead th {\n",
       "        text-align: right;\n",
       "    }\n",
       "</style>\n",
       "<table border=\"1\" class=\"dataframe\">\n",
       "  <thead>\n",
       "    <tr style=\"text-align: right;\">\n",
       "      <th></th>\n",
       "      <th>data_venda</th>\n",
       "      <th>id_venda</th>\n",
       "      <th>nome_cliente</th>\n",
       "      <th>valor_venda</th>\n",
       "      <th>grupo</th>\n",
       "      <th>cota</th>\n",
       "      <th>nome_produto</th>\n",
       "      <th>nome_funcionario</th>\n",
       "      <th>id_funcionario</th>\n",
       "      <th>projeto</th>\n",
       "      <th>...</th>\n",
       "      <th>id_prod_caract</th>\n",
       "      <th>qtd_parcelas</th>\n",
       "      <th>taxa_comissao</th>\n",
       "      <th>data_primeira_parcela</th>\n",
       "      <th>data_ultima_parcela</th>\n",
       "      <th>valor_comissao</th>\n",
       "      <th>id_income</th>\n",
       "      <th>taxa_receita</th>\n",
       "      <th>valor_receita</th>\n",
       "      <th>company_id</th>\n",
       "    </tr>\n",
       "  </thead>\n",
       "  <tbody>\n",
       "  </tbody>\n",
       "</table>\n",
       "<p>0 rows × 22 columns</p>\n",
       "</div>"
      ],
      "text/plain": [
       "Empty DataFrame\n",
       "Columns: [data_venda, id_venda, nome_cliente, valor_venda, grupo, cota, nome_produto, nome_funcionario, id_funcionario, projeto, nome_adm, data_venda_abv, id_prod_caract, qtd_parcelas, taxa_comissao, data_primeira_parcela, data_ultima_parcela, valor_comissao, id_income, taxa_receita, valor_receita, company_id]\n",
       "Index: []\n",
       "\n",
       "[0 rows x 22 columns]"
      ]
     },
     "execution_count": 39,
     "metadata": {},
     "output_type": "execute_result"
    }
   ],
   "source": [
    "df_sales[df_sales['id_venda'].duplicated()]"
   ]
  },
  {
   "cell_type": "code",
   "execution_count": null,
   "metadata": {},
   "outputs": [],
   "source": [
    "df_sales.iloc[496, 'id_venda'] = '400515810-2'"
   ]
  }
 ],
 "metadata": {
  "kernelspec": {
   "display_name": "Python 3",
   "language": "python",
   "name": "python3"
  },
  "language_info": {
   "codemirror_mode": {
    "name": "ipython",
    "version": 3
   },
   "file_extension": ".py",
   "mimetype": "text/x-python",
   "name": "python",
   "nbconvert_exporter": "python",
   "pygments_lexer": "ipython3",
   "version": "3.8.10"
  }
 },
 "nbformat": 4,
 "nbformat_minor": 2
}
